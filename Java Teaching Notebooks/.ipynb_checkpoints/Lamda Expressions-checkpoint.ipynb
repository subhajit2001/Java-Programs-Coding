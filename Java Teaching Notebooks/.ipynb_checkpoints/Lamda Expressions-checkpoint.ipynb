{
 "cells": [
  {
   "cell_type": "markdown",
   "id": "db30b61a",
   "metadata": {},
   "source": [
    "() -> 123.45\n",
    "    \n",
    "<br/>\n",
    "<code>\n",
    "double myMeth()\n",
    "{\n",
    "    return 123.45;\n",
    "}\n",
    "</code>\n",
    "\n",
    "() -> Math.random()*100\n",
    "\n",
    "#### Parameterized Lambda Expression\n",
    "\n",
    "(n) -> (n%2)==0"
   ]
  },
  {
   "cell_type": "code",
   "execution_count": 3,
   "id": "4bacb133",
   "metadata": {},
   "outputs": [],
   "source": [
    "@FunctionalInterface\n",
    "interface MyNumber{\n",
    " double getValue();//implicitly abstract method\n",
    "}"
   ]
  },
  {
   "cell_type": "code",
   "execution_count": 4,
   "id": "c80045d3",
   "metadata": {},
   "outputs": [
    {
     "name": "stdout",
     "output_type": "stream",
     "text": [
      "REPL.$JShell$16$$Lambda$411/0x0000000840276440@e5c8e44\n"
     ]
    }
   ],
   "source": [
    "//Create a reference to MyNumber instance\n",
    "MyNumber myNum;\n",
    "\n",
    "//Use a lambda in an assignment context\n",
    "myNum = () -> 123.45;\n",
    "System.out.println(myNum);"
   ]
  },
  {
   "cell_type": "code",
   "execution_count": 5,
   "id": "9ebae6ac",
   "metadata": {},
   "outputs": [
    {
     "name": "stdout",
     "output_type": "stream",
     "text": [
      "123.45\n"
     ]
    }
   ],
   "source": [
    "//Call getValue, which is implemented by the previously assigned lambda expression\n",
    "System.out.println(myNum.getValue());"
   ]
  },
  {
   "cell_type": "code",
   "execution_count": 6,
   "id": "f4355676",
   "metadata": {},
   "outputs": [
    {
     "name": "stdout",
     "output_type": "stream",
     "text": [
      "Fixed Value : 123.45\n",
      "Random Value : 65.77423954099699\n",
      "Another Random Value : 60.215948962762866\n"
     ]
    }
   ],
   "source": [
    "interface MyNumber{\n",
    "    double getValue();\n",
    "}\n",
    "class LambdaDemo{\n",
    "    public static void main()\n",
    "    {\n",
    "        MyNumber myNum;//declaring an interface reference\n",
    "        \n",
    "        myNum = () -> 123.45;\n",
    "        System.out.println(\"Fixed Value : \"+myNum.getValue());\n",
    "        \n",
    "        myNum = () -> Math.random() * 100;\n",
    "        System.out.println(\"Random Value : \"+myNum.getValue());\n",
    "        System.out.println(\"Another Random Value : \"+myNum.getValue());\n",
    "        \n",
    "    }\n",
    "}LambdaDemo.main()"
   ]
  },
  {
   "cell_type": "code",
   "execution_count": 8,
   "id": "731b7f92",
   "metadata": {},
   "outputs": [
    {
     "name": "stdout",
     "output_type": "stream",
     "text": [
      "10 is even\n"
     ]
    }
   ],
   "source": [
    "interface NumericTest{\n",
    "    boolean test(int n);\n",
    "}\n",
    "class Odd_Even_Lambda{\n",
    "    public static void main()\n",
    "    {\n",
    "        NumericTest num = (n) -> (n % 2)==0;\n",
    "        \n",
    "        if(num.test(10))\n",
    "        {\n",
    "            System.out.println(\"10 is even\");\n",
    "        }\n",
    "        else\n",
    "        {\n",
    "            System.out.println(\"10 is odd\");\n",
    "        }\n",
    "    }\n",
    "}Odd_Even_Lambda.main()"
   ]
  },
  {
   "cell_type": "code",
   "execution_count": 9,
   "id": "8959dade",
   "metadata": {},
   "outputs": [
    {
     "name": "stdout",
     "output_type": "stream",
     "text": [
      "-10 is negative\n"
     ]
    }
   ],
   "source": [
    "class Neg_Pos{\n",
    "    public static void main()\n",
    "    {\n",
    "        NumericTest num1 = (n) -> n>=0;\n",
    "        \n",
    "        if(num1.test(-10))\n",
    "        {\n",
    "            System.out.println(\"-10 is positive or zero\");\n",
    "        }\n",
    "        else\n",
    "        {\n",
    "            System.out.println(\"-10 is negative\");\n",
    "        }\n",
    "    }\n",
    "}Neg_Pos.main()"
   ]
  },
  {
   "cell_type": "code",
   "execution_count": 11,
   "id": "032c4ae7",
   "metadata": {},
   "outputs": [
    {
     "name": "stdout",
     "output_type": "stream",
     "text": [
      "2 is a factor of 10\n",
      "3 is not a factor of 10\n"
     ]
    }
   ],
   "source": [
    "interface NumericTest2{\n",
    "    boolean test(int n,int d);\n",
    "}\n",
    "class Demo{\n",
    "    public static void main()\n",
    "    {\n",
    "        NumericTest2 isFactor = (n,d)->(n%d)==0;\n",
    "        \n",
    "        if(isFactor.test(10,2))\n",
    "        {\n",
    "            System.out.println(\"2 is a factor of 10\");\n",
    "        }\n",
    "        if(!isFactor.test(10,3))\n",
    "        {\n",
    "            System.out.println(\"3 is not a factor of 10\");\n",
    "        }\n",
    "    }\n",
    "}Demo.main()"
   ]
  },
  {
   "cell_type": "code",
   "execution_count": 12,
   "id": "4d6ff46b",
   "metadata": {},
   "outputs": [
    {
     "name": "stdout",
     "output_type": "stream",
     "text": [
      "The factorial of 3 is : 6\n",
      "The factorial of 5 is : 120\n"
     ]
    }
   ],
   "source": [
    "interface NumericFunc{\n",
    "    int func(int n);\n",
    "}\n",
    "class BlockLamdaDemo{\n",
    "    public static void main()\n",
    "    {\n",
    "        NumericFunc factorial = (n) -> {\n",
    "            int result = 1;\n",
    "            for(int i=2;i<=n;i++)\n",
    "            {\n",
    "                result = result * i;\n",
    "            }\n",
    "            return result;\n",
    "        };\n",
    "        \n",
    "        System.out.println(\"The factorial of 3 is : \"+factorial.func(3));\n",
    "        System.out.println(\"The factorial of 5 is : \"+factorial.func(5));\n",
    "        \n",
    "    }\n",
    "}BlockLamdaDemo.main()"
   ]
  },
  {
   "cell_type": "code",
   "execution_count": 16,
   "id": "4af1136f",
   "metadata": {},
   "outputs": [
    {
     "name": "stdout",
     "output_type": "stream",
     "text": [
      "Lamda reversed is : adbmaL\n",
      "Expression reversed is : noisserpxE\n"
     ]
    }
   ],
   "source": [
    "interface StringFunc{\n",
    "    String func(String n);\n",
    "}\n",
    "class BlockLambdaDemo2{\n",
    "    public static void main()\n",
    "    {\n",
    "        StringFunc reverse = (str) -> {\n",
    "            String result = \"\";\n",
    "            int i;\n",
    "            \n",
    "            for(i=str.length()-1;i>=0;i--)\n",
    "            {\n",
    "                result += str.charAt(i);\n",
    "            }\n",
    "            return result;\n",
    "        };\n",
    "        System.out.println(\"Lamda reversed is : \"+reverse.func(\"Lambda\"));\n",
    "        System.out.println(\"Expression reversed is : \"+reverse.func(\"Expression\"));\n",
    "        \n",
    "    }\n",
    "}BlockLambdaDemo2.main()"
   ]
  },
  {
   "cell_type": "code",
   "execution_count": 17,
   "id": "08d33dab",
   "metadata": {},
   "outputs": [
    {
     "name": "stdout",
     "output_type": "stream",
     "text": [
      "Here is input string : Lambdas add power to Java\n",
      "The string in upper case : LAMBDAS ADD POWER TO JAVA\n",
      "The string without spaces : LambdasaddpowertoJava\n",
      "The string reversed : avaJ ot rewop dda sadbmaL\n"
     ]
    }
   ],
   "source": [
    "interface StringFunc{\n",
    "    String func(String n);\n",
    "}\n",
    "class LambdaArguments{\n",
    "    static String stringop(StringFunc sf, String s)\n",
    "    {\n",
    "        return sf.func(s);\n",
    "    }\n",
    "    public static void main()\n",
    "    {\n",
    "        String instr = \"Lambdas add power to Java\";\n",
    "        String outstr;\n",
    "        \n",
    "        System.out.println(\"Here is input string : \"+instr);\n",
    "        outstr = stringop((str)->str.toUpperCase(),instr);\n",
    "        System.out.println(\"The string in upper case : \"+outstr);\n",
    "        \n",
    "        outstr = stringop((str)->{\n",
    "            String result = \"\";\n",
    "            int i;\n",
    "            for(i=0;i<str.length();i++)\n",
    "            {\n",
    "                if(str.charAt(i)!=' ')\n",
    "                {\n",
    "                    result += str.charAt(i);\n",
    "                }\n",
    "            }\n",
    "            return result;\n",
    "        },instr);\n",
    "        System.out.println(\"The string without spaces : \"+outstr);\n",
    "        \n",
    "        StringFunc reverse = (str) -> {\n",
    "            String result = \"\";\n",
    "            int i;\n",
    "            for(i=str.length()-1;i>=0;i--)\n",
    "            {\n",
    "                result+=str.charAt(i);\n",
    "            }\n",
    "            return result;\n",
    "        };\n",
    "        System.out.println(\"The string reversed : \"+stringop(reverse,instr));        \n",
    "    }\n",
    "}LambdaArguments.main()"
   ]
  },
  {
   "cell_type": "code",
   "execution_count": 20,
   "id": "d8b2b121",
   "metadata": {},
   "outputs": [
    {
     "name": "stdout",
     "output_type": "stream",
     "text": [
      "Human Walking!!!\n",
      "Robot Walking!!!\n",
      "Custom object walking...\n",
      "Custom object walking with lambda...\n",
      "Custom object walking...Then tripped:(\n",
      "Walkable object using type of interface\n",
      "22\n",
      "2\n"
     ]
    }
   ],
   "source": [
    "@FunctionalInterface\n",
    "public interface Walkable{\n",
    "    public void walk();\n",
    "}\n",
    "@FunctionalInterface\n",
    "public interface TwoArguments{\n",
    "    public int action(int arg1,int arg2);\n",
    "}\n",
    "public class Robot implements Walkable{\n",
    "    public void walk()\n",
    "    {\n",
    "        System.out.println(\"Robot Walking!!!\");\n",
    "    }\n",
    "}\n",
    "public class Human implements Walkable{\n",
    "    public void walk()\n",
    "    {\n",
    "        System.out.println(\"Human Walking!!!\");\n",
    "    }\n",
    "}\n",
    "public class App{\n",
    "    public static void main()\n",
    "    {\n",
    "        Human tom = new Human();\n",
    "        //tom.walk();\n",
    "        walker(tom);\n",
    "        \n",
    "        Robot wale = new Robot();\n",
    "        //wale.walk();\n",
    "        walker(wale);\n",
    "        \n",
    "        //anonymous class - defining a custom class implmenting the Walkable interface and \n",
    "        //immediately and overriding the methods as well\n",
    "        walker(new Walkable(){\n",
    "            \n",
    "            @Override\n",
    "            public void walk()\n",
    "            {\n",
    "                System.out.println(\"Custom object walking...\");\n",
    "            }\n",
    "        });\n",
    "        \n",
    "        //defining the lambda expression where the method inside the interface is defined only\n",
    "        walker( () -> System.out.println(\"Custom object walking with lambda...\"));\n",
    "        \n",
    "        walker( () -> /*Implmentation of the walkable interface and its method*/{\n",
    "            System.out.print(\"Custom object walking...\");\n",
    "            System.out.println(\"Then tripped:(\");\n",
    "        });\n",
    "        \n",
    "        Walkable wa = () -> System.out.println(\"Walkable object using type of interface\");\n",
    "        walker(wa);\n",
    "        \n",
    "        TwoArguments sumarg = (arg1,arg2) -> arg1+arg2; \n",
    "        System.out.println(sumarg.action(10,12));\n",
    "        \n",
    "        TwoArguments nonzerodiv = (arg1, arg2) -> {\n",
    "            if(arg1==0)\n",
    "            {\n",
    "                return 0;\n",
    "            }\n",
    "            else if(arg2==0)\n",
    "            {\n",
    "                System.out.println(\"Divide by zero\");\n",
    "                return 0;\n",
    "            }\n",
    "            return arg1/arg2;\n",
    "        };\n",
    "        System.out.println(nonzerodiv.action(12,6));\n",
    "        \n",
    "    }\n",
    "    public static void walker(Walkable walkable_instance/*Human human*/)\n",
    "    {\n",
    "        walkable_instance.walk();\n",
    "    }\n",
    "}App.main()"
   ]
  },
  {
   "cell_type": "code",
   "execution_count": 37,
   "id": "fb5b7519",
   "metadata": {},
   "outputs": [
    {
     "name": "stdout",
     "output_type": "stream",
     "text": [
      "All numbers in list\n",
      "12\n",
      "9\n",
      "13\n",
      "4\n",
      "6\n",
      "2\n",
      "4\n",
      "12\n",
      "15\n",
      "Even numbers in list\n",
      "12\n",
      "4\n",
      "6\n",
      "2\n",
      "4\n",
      "12\n",
      "Sum of numbers in a List : 77\n"
     ]
    }
   ],
   "source": [
    "class FP01Structured{\n",
    "    public static void main()\n",
    "    {\n",
    "        List<Integer> numbers = List.of(12,9,13,4,6,2,4,12,15);\n",
    "        System.out.println(\"All numbers in list\");\n",
    "        printAllNumbersInListStructured(numbers);//Returns fixed size list from numbers\n",
    "        System.out.println(\"Even numbers in list\");\n",
    "        printEvenNumbersInListStructured(numbers);\n",
    "        \n",
    "        int sum = addListStructured(numbers);\n",
    "        System.out.println(\"Sum of numbers in a List : \"+sum);\n",
    "    }\n",
    "    private static void printEvenNumbersInListStructured(List<Integer> numbers)\n",
    "    {\n",
    "        //looping the numbers\n",
    "        for(int number:numbers)\n",
    "        {\n",
    "            if(number%2==0) System.out.println(number);\n",
    "        }\n",
    "    }\n",
    "    private static void printAllNumbersInListStructured(List<Integer> numbers)\n",
    "    {\n",
    "        //looping the numbers\n",
    "        for(int number:numbers)\n",
    "        {\n",
    "            System.out.println(number);\n",
    "        }\n",
    "    }\n",
    "    private static int addListStructured(List<Integer> numbers)\n",
    "    {\n",
    "        int sum = 0;\n",
    "        for(int number:numbers)\n",
    "        {\n",
    "            sum += number;\n",
    "        }\n",
    "        return sum;\n",
    "    }\n",
    "}FP01Structured.main()"
   ]
  },
  {
   "cell_type": "code",
   "execution_count": 43,
   "id": "e6efa2a2",
   "metadata": {},
   "outputs": [
    {
     "name": "stdout",
     "output_type": "stream",
     "text": [
      "All numbers in list\n",
      "12\n",
      "9\n",
      "13\n",
      "4\n",
      "6\n",
      "2\n",
      "4\n",
      "12\n",
      "15\n",
      "Even numbers in list\n",
      "12\n",
      "4\n",
      "6\n",
      "2\n",
      "4\n",
      "12\n",
      "Process of summing Up ------->\n",
      "0 12\n",
      "12 9\n",
      "21 13\n",
      "34 4\n",
      "38 6\n",
      "44 2\n",
      "46 4\n",
      "50 12\n",
      "62 15\n",
      "Sum of numbers in a List : 77\n"
     ]
    }
   ],
   "source": [
    "class FP01Functional{\n",
    "    public static void main()\n",
    "    {\n",
    "        List<Integer> numbers = List.of(12,9,13,4,6,2,4,12,15);\n",
    "        System.out.println(\"All numbers in list\");\n",
    "        printAllNumbersInListFunctional(numbers);//Returns fixed size list from numbers\n",
    "        System.out.println(\"Even numbers in list\");\n",
    "        printEvenNumbersInListFunctional(numbers);\n",
    "        \n",
    "        int sum = addListFunctional(numbers);\n",
    "        System.out.println(\"Sum of numbers in a List : \"+sum);\n",
    "    }\n",
    "    private static void print(int num)\n",
    "    {\n",
    "        System.out.println(num);\n",
    "    }\n",
    "    private static boolean isEven(int num)\n",
    "    {\n",
    "        return num%2==0;\n",
    "    }\n",
    "    private static int sum(int aggregate,int nextNumber)\n",
    "    {\n",
    "        System.out.println(aggregate + \" \" + nextNumber);\n",
    "        return aggregate+nextNumber;\n",
    "    }\n",
    "    private static void printEvenNumbersInListFunctional(List<Integer> numbers)\n",
    "    {\n",
    "        //to be done\n",
    "        //convert the array into sequence of elements - stream of numbers\n",
    "        numbers.stream()\n",
    "            //Add Filter to only allow even numbers with the method to called for condition checking\n",
    "            .filter(FP01Functional::isEven)\n",
    "            .forEach(FP01Functional::print);//Method reference\n",
    "    }\n",
    "    private static void printAllNumbersInListFunctional(List<Integer> numbers)\n",
    "    {\n",
    "        //to be done\n",
    "        //convert the array into sequence of elements - stream of numbers\n",
    "        numbers.stream().forEach(FP01Functional::print);//Method reference\n",
    "    }\n",
    "    private static int addListFunctional(List<Integer> numbers)\n",
    "    {\n",
    "        System.out.println(\"Process of summing Up ------->\");\n",
    "        return numbers.stream()\n",
    "            //combining list of values into one value\n",
    "            // (a,b) -> a + b ---> FP01Functional::sum --->finally reduce to 1 result value\n",
    "            .reduce(0, FP01Functional::sum);//initially sum will be 0 which is the starting value\n",
    "    }\n",
    "}\n",
    "FP01Functional.main()"
   ]
  },
  {
   "cell_type": "code",
   "execution_count": 47,
   "id": "4f4701cc",
   "metadata": {},
   "outputs": [
    {
     "name": "stdout",
     "output_type": "stream",
     "text": [
      "12\n",
      "9\n",
      "13\n",
      "4\n",
      "6\n",
      "2\n",
      "4\n",
      "12\n",
      "15\n",
      "Sum of numbers in a List : 77\n"
     ]
    }
   ],
   "source": [
    "class FP01Functional_New{\n",
    "    public static void main()\n",
    "    {\n",
    "        List<Integer> numbers = List.of(12,9,13,4,6,2,4,12,15);\n",
    "        printAllNumbersInListFunctional(numbers);\n",
    "        \n",
    "        \n",
    "        int sum = addListFunctional(numbers);\n",
    "        System.out.println(\"Sum of numbers in a List : \"+sum);\n",
    "    }\n",
    "    private static void printAllNumbersInListFunctional(List<Integer> numbers)\n",
    "    {\n",
    "        //to be done\n",
    "        //convert the array into sequence of elements - stream of numbers\n",
    "        numbers.stream().forEach(System.out::println);//Method reference - from System.out class\n",
    "    }\n",
    "    private static int addListFunctional(List<Integer> numbers)\n",
    "    {\n",
    "        return numbers.stream()\n",
    "            //combining list of values into one value\n",
    "            // (a,b) -> a + b ---> FP01Functional::sum --->finally reduce to 1 result value\n",
    "            .reduce(0, Integer::sum);//initially sum will be 0 which is the starting value\n",
    "            //use of sum function from Integer class\n",
    "    }\n",
    "}\n",
    "FP01Functional_New.main()"
   ]
  },
  {
   "cell_type": "code",
   "execution_count": 70,
   "id": "82a5761a",
   "metadata": {},
   "outputs": [
    {
     "name": "stdout",
     "output_type": "stream",
     "text": [
      "All numbers in list\n",
      "12\n",
      "9\n",
      "13\n",
      "4\n",
      "6\n",
      "2\n",
      "4\n",
      "12\n",
      "15\n",
      "Even numbers in list\n",
      "12\n",
      "4\n",
      "6\n",
      "2\n",
      "4\n",
      "12\n",
      "Odd numbers in list\n",
      "9\n",
      "13\n",
      "15\n",
      "Squares of even numbers in list\n",
      "144\n",
      "16\n",
      "36\n",
      "4\n",
      "16\n",
      "144\n",
      "Cube of odd numbers in list\n",
      "729\n",
      "2197\n",
      "3375\n",
      "Distinct numbers in list\n",
      "12\n",
      "9\n",
      "13\n",
      "4\n",
      "6\n",
      "2\n",
      "15\n",
      "Distinct sorted numbers in list\n",
      "2\n",
      "4\n",
      "6\n",
      "9\n",
      "12\n",
      "13\n",
      "15\n",
      "Sum of numbers in a List : 77\n",
      "Max of numbers in a List : 15\n",
      "Min of numbers in a List : 2\n",
      "Sum of Squares of numbers in a List : 835\n",
      "Sum of Cubes of numbers in a List : 10109\n",
      "Sum of Squares of odd numbers in a List : 6301\n",
      "Squared List : [24, 18, 26, 8, 12, 4, 8, 24, 30]\n",
      "Squared List : [12, 4, 6, 2, 4, 12]\n"
     ]
    }
   ],
   "source": [
    "import java.util.stream.Collectors;\n",
    "class FP01Functional_Lambda{\n",
    "    public static void main()\n",
    "    {\n",
    "        List<Integer> numbers = List.of(12,9,13,4,6,2,4,12,15);\n",
    "        System.out.println(\"All numbers in list\");\n",
    "        printAllNumbersInListFunctional(numbers);//Returns fixed size list from numbers\n",
    "        System.out.println(\"Even numbers in list\");\n",
    "        printEvenNumbersInListFunctional(numbers);\n",
    "        System.out.println(\"Odd numbers in list\");\n",
    "        printOddNumbersInListFunctional(numbers);\n",
    "        \n",
    "        System.out.println(\"Squares of even numbers in list\");\n",
    "        printEvenSquareOfNumbersInListFunctional(numbers);\n",
    "        System.out.println(\"Cube of odd numbers in list\");\n",
    "        printOddCubeOfNumbersInListFunctional(numbers);\n",
    "        \n",
    "        System.out.println(\"Distinct numbers in list\");\n",
    "        printDistinct(numbers);\n",
    "        \n",
    "        System.out.println(\"Distinct sorted numbers in list\");\n",
    "        printDistinctSortedList(numbers);\n",
    "        \n",
    "        int sum = addListFunctional(numbers);\n",
    "        System.out.println(\"Sum of numbers in a List : \"+sum);\n",
    "        \n",
    "        int max = ListMax(numbers);\n",
    "        System.out.println(\"Max of numbers in a List : \"+max);\n",
    "        \n",
    "        int min = ListMin(numbers);\n",
    "        System.out.println(\"Min of numbers in a List : \"+min);\n",
    "        \n",
    "        int sumSq = sumOfSquares(numbers);\n",
    "        System.out.println(\"Sum of Squares of numbers in a List : \"+sumSq);\n",
    "        \n",
    "        int sumCu = sumOfCubes(numbers);\n",
    "        System.out.println(\"Sum of Cubes of numbers in a List : \"+sumCu);\n",
    "        \n",
    "        int sumSqOdd = sumOfSquaresOddNum(numbers);\n",
    "        System.out.println(\"Sum of Squares of odd numbers in a List : \"+sumSqOdd);\n",
    "        \n",
    "        List<Integer> doubleNumbers = doubleList(numbers);\n",
    "        System.out.println(\"Squared List : \"+doubleNumbers);\n",
    "        \n",
    "        List<Integer> EvenNumbers = evenNumListExtract(numbers);\n",
    "        System.out.println(\"Squared List : \"+EvenNumbers);\n",
    "    }\n",
    "    private static void printOddNumbersInListFunctional(List<Integer> numbers)\n",
    "    {\n",
    "        //to be done\n",
    "        //convert the array into sequence of elements - stream of numbers\n",
    "        numbers.stream()\n",
    "            //Add Filter to only allow even numbers with the method to called for condition checking\n",
    "            .filter(number -> number%2==1) //lamda expression= number->number%2==0\n",
    "            .forEach(number -> System.out.println(number));//Method reference\n",
    "    }\n",
    "    private static void printEvenNumbersInListFunctional(List<Integer> numbers)\n",
    "    {\n",
    "        //to be done\n",
    "        //convert the array into sequence of elements - stream of numbers\n",
    "        numbers.stream()\n",
    "            //Add Filter to only allow even numbers with the method to called for condition checking\n",
    "            .filter(number -> number%2==0) //lamda expression= number->number%2==0\n",
    "            .forEach(number -> System.out.println(number));//Method reference\n",
    "    }\n",
    "    private static void printAllNumbersInListFunctional(List<Integer> numbers)\n",
    "    {\n",
    "        //to be done\n",
    "        //convert the array into sequence of elements - stream of numbers\n",
    "        numbers.stream().forEach(number -> System.out.println(number));//Method reference\n",
    "    }\n",
    "    private static int addListFunctional(List<Integer> numbers)\n",
    "    {\n",
    "        return numbers.stream()\n",
    "            //combining list of values into one value\n",
    "            // (a,b) -> a + b ---> FP01Functional::sum --->finally reduce to 1 result value\n",
    "            .reduce(0, (x,y) -> x + y);//initially sum will be 0 which is the starting value\n",
    "            //use of lambda expression\n",
    "    }\n",
    "    private static void printEvenSquareOfNumbersInListFunctional(List<Integer> numbers)\n",
    "    {\n",
    "        //to be done\n",
    "        //convert the array into sequence of elements - stream of numbers\n",
    "        numbers.stream()\n",
    "            //Add Filter to only allow even numbers with the method to called for condition checking\n",
    "            .filter(number -> number%2==0) //lamda expression= number->number%2==0\n",
    "            .map(number -> number*number)  //map= x -> x*x\n",
    "            .forEach(number -> System.out.println(number));//Method reference\n",
    "    }\n",
    "    private static void printOddCubeOfNumbersInListFunctional(List<Integer> numbers)\n",
    "    {\n",
    "        //to be done\n",
    "        //convert the array into sequence of elements - stream of numbers\n",
    "        numbers.stream()\n",
    "            //Add Filter to only allow even numbers with the method to called for condition checking\n",
    "            .filter(number -> number%2==1) //lamda expression= number->number%2==0\n",
    "            .map(number -> number*number*number)  //map= x -> x*x\n",
    "            .forEach(number -> System.out.println(number));//Method reference\n",
    "    }\n",
    "    private static int ListMax(List<Integer> numbers)\n",
    "    {\n",
    "        return numbers.stream()\n",
    "            .reduce(Integer.MIN_VALUE, (x,y) -> x>y?x:y);\n",
    "    }\n",
    "    private static int ListMin(List<Integer> numbers)\n",
    "    {\n",
    "        return numbers.stream()\n",
    "            .reduce(Integer.MAX_VALUE, (x,y) -> x>y?y:x);\n",
    "    }\n",
    "    private static int sumOfSquares(List<Integer> numbers)\n",
    "    {\n",
    "        return numbers.stream()\n",
    "            .map(x -> x*x)\n",
    "            .reduce(0, Integer::sum);\n",
    "    }\n",
    "    private static int sumOfCubes(List<Integer> numbers)\n",
    "    {\n",
    "        return numbers.stream()\n",
    "            .map(x -> x*x*x)\n",
    "            .reduce(0, (a,b)->a+b);\n",
    "    }\n",
    "    private static int sumOfSquaresOddNum(List<Integer> numbers)\n",
    "    {\n",
    "        return numbers.stream()\n",
    "            .filter(number -> number%2==1)\n",
    "            .map(x -> x*x*x)\n",
    "            .reduce(0, (a,b)->a+b);\n",
    "    }\n",
    "    private static void printDistinct(List<Integer> numbers)\n",
    "    {\n",
    "        numbers.stream().distinct().forEach(System.out::println);\n",
    "    }\n",
    "    private static void printDistinctSortedList(List<Integer> numbers)\n",
    "    {\n",
    "        numbers.stream().distinct().sorted().forEach(System.out::println);\n",
    "    }\n",
    "    private static List<Integer> doubleList(List<Integer> numbers)\n",
    "    {\n",
    "        return numbers.stream()\n",
    "            .map(number -> number * 2)\n",
    "            .collect(Collectors.toList());\n",
    "    }\n",
    "    private static List<Integer> evenNumListExtract(List<Integer> numbers)\n",
    "    {\n",
    "        return numbers.stream()\n",
    "            .filter(x->x%2==0)\n",
    "            .collect(Collectors.toList());\n",
    "    }\n",
    "}\n",
    "FP01Functional_Lambda.main()"
   ]
  },
  {
   "cell_type": "code",
   "execution_count": 43,
   "id": "253d69ab",
   "metadata": {},
   "outputs": [
    {
     "name": "stdout",
     "output_type": "stream",
     "text": [
      "ALL Courses -------->\n",
      "Spring\n",
      "Spring Boot\n",
      "API\n",
      "Microservices\n",
      "AWS\n",
      "PCP\n",
      "Azure\n",
      "Docker\n",
      "Kubernetes\n",
      "Courses with word Spring -------->\n",
      "Spring\n",
      "Spring Boot\n",
      "Courses with atleast 4 letters -------->\n",
      "Spring\n",
      "Spring Boot\n",
      "Microservices\n",
      "Azure\n",
      "Docker\n",
      "Kubernetes\n",
      "Characters in each Course -------->\n",
      "Spring ->> 6\n",
      "Spring Boot ->> 11\n",
      "API ->> 3\n",
      "Microservices ->> 13\n",
      "AWS ->> 3\n",
      "PCP ->> 3\n",
      "Azure ->> 5\n",
      "Docker ->> 6\n",
      "Kubernetes ->> 10\n",
      "Courses in a sorted manner -------->\n",
      "API\n",
      "AWS\n",
      "Azure\n",
      "Docker\n",
      "Kubernetes\n",
      "Microservices\n",
      "PCP\n",
      "Spring\n",
      "Spring Boot\n",
      "Courses in a Natural order sorted manner -------->\n",
      "API\n",
      "AWS\n",
      "Azure\n",
      "Docker\n",
      "Kubernetes\n",
      "Microservices\n",
      "PCP\n",
      "Spring\n",
      "Spring Boot\n",
      "Courses in a Reverse order sorted manner -------->\n",
      "Spring Boot\n",
      "Spring\n",
      "PCP\n",
      "Microservices\n",
      "Kubernetes\n",
      "Docker\n",
      "Azure\n",
      "AWS\n",
      "API\n",
      "Courses sorted by length -------->\n",
      "API\n",
      "AWS\n",
      "PCP\n",
      "Azure\n",
      "Spring\n",
      "Docker\n",
      "Kubernetes\n",
      "Spring Boot\n",
      "Microservices\n",
      "Courses lengths list -------->\n",
      "[6, 11, 3, 13, 3, 3, 5, 6, 10]\n",
      "Courses in uppercase -------->\n",
      "SPRING\n",
      "SPRING BOOT\n",
      "API\n",
      "MICROSERVICES\n",
      "AWS\n",
      "PCP\n",
      "AZURE\n",
      "DOCKER\n",
      "KUBERNETES\n"
     ]
    }
   ],
   "source": [
    "class FP03Functional_Courses{\n",
    "    public static void main()\n",
    "    {\n",
    "        List<String> courses = List.of(\"Spring\",\"Spring Boot\",\"API\",\"Microservices\",\"AWS\",\"PCP\",\"Azure\",\"Docker\",\"Kubernetes\");\n",
    "        System.out.println(\"ALL Courses -------->\");\n",
    "        printAllCourses(courses);\n",
    "        System.out.println(\"Courses with word Spring -------->\");\n",
    "        printCoursesWithSpring(courses);\n",
    "        System.out.println(\"Courses with atleast 4 letters -------->\");\n",
    "        printCoursesWith4Letters(courses);\n",
    "        System.out.println(\"Characters in each Course -------->\");\n",
    "        printCoursesCharacterLength(courses);\n",
    "        System.out.println(\"Courses in a sorted manner -------->\");\n",
    "        printSortedAlphabetically(courses);\n",
    "        System.out.println(\"Courses in a Natural order sorted manner -------->\");\n",
    "        printSortedAlphabeticallyNaturalOrder(courses);\n",
    "        System.out.println(\"Courses in a Reverse order sorted manner -------->\");\n",
    "        printSortedAlphabeticallyReverseOrder(courses);\n",
    "        System.out.println(\"Courses sorted by length -------->\");\n",
    "        printSortedByLength(courses);\n",
    "        System.out.println(\"Courses lengths list -------->\");\n",
    "        List<Integer> courseLengths = courseTitleLengths(courses);\n",
    "        System.out.println(courseLengths);\n",
    "        System.out.println(\"Courses in uppercase -------->\");\n",
    "        courses.stream()\n",
    "            .map(String::toUpperCase)\n",
    "            .forEach(System.out::println);\n",
    "    }\n",
    "    private static void printAllCourses(List<String> courses)\n",
    "    {\n",
    "        courses.stream().forEach(course -> System.out.println(course));\n",
    "    }\n",
    "    private static void printCoursesWithSpring(List<String> courses)\n",
    "    {\n",
    "        courses.stream()\n",
    "            .filter(course -> course.contains(\"Spring\"))\n",
    "            .forEach(course -> System.out.println(course));\n",
    "    }\n",
    "    private static void printCoursesWith4Letters(List<String> courses)\n",
    "    {\n",
    "        courses.stream()\n",
    "            .filter(course -> course.length()>=4)\n",
    "            .forEach(course -> System.out.println(course));\n",
    "    }\n",
    "    private static void printCoursesCharacterLength(List<String> courses)\n",
    "    {\n",
    "        courses.stream()\n",
    "            .map(course -> course + \" ->> \" + course.length())\n",
    "            .forEach(len -> System.out.println(len));\n",
    "    }\n",
    "    private static void printSortedAlphabetically(List<String> courses)\n",
    "    {\n",
    "        courses.stream().sorted().forEach(System.out::println);\n",
    "    }\n",
    "    private static void printSortedAlphabeticallyNaturalOrder(List<String> courses)\n",
    "    {\n",
    "        courses.stream().sorted(Comparator.naturalOrder()).forEach(System.out::println);\n",
    "    }\n",
    "    private static void printSortedAlphabeticallyReverseOrder(List<String> courses)\n",
    "    {\n",
    "        courses.stream().sorted(Comparator.reverseOrder()).forEach(System.out::println);\n",
    "    }\n",
    "    private static void printSortedByLength(List<String> courses)\n",
    "    {\n",
    "        courses.stream().sorted(Comparator.comparing(str -> str.length())).forEach(System.out::println);\n",
    "    }\n",
    "    private static List<Integer> courseTitleLengths(List<String> courses)\n",
    "    {\n",
    "        return courses.stream().map(x -> x.length()).collect(Collectors.toList());\n",
    "    }\n",
    "}FP03Functional_Courses.main()"
   ]
  },
  {
   "cell_type": "code",
   "execution_count": 8,
   "id": "e21a3fda",
   "metadata": {},
   "outputs": [
    {
     "name": "stdout",
     "output_type": "stream",
     "text": [
      "144\n",
      "16\n",
      "36\n",
      "4\n",
      "16\n",
      "144\n",
      "Sum of numbers are : 77\n"
     ]
    }
   ],
   "source": [
    "import java.util.function.Consumer;\n",
    "import java.util.function.Function;\n",
    "import java.util.function.Predicate;\n",
    "import java.util.function.BinaryOperator;\n",
    "public class FP03FunctionalInterfaces{\n",
    "    \n",
    "    /*\n",
    "    boolean isEven(int x)\n",
    "    {\n",
    "        return x%2==0;\n",
    "    }\n",
    "    */\n",
    "    /*\n",
    "    int squared(int x)\n",
    "    {\n",
    "        return x*x;\n",
    "    }\n",
    "    */\n",
    "    public static void main()\n",
    "    {\n",
    "        List<Integer> numbers = List.of(12,9,13,4,6,2,4,12,15);\n",
    "        \n",
    "        //Predicate represents a boolean valued function of one argument\n",
    "        //annonymous class\n",
    "        Predicate<Integer> isEvenPredicate = x -> x%2==0;\n",
    "        Predicate<Integer> isEvenPredicate2 = new Predicate<Integer>()\n",
    "        {\n",
    "            @Override\n",
    "            public boolean test(Integer x)\n",
    "            {\n",
    "                return x%2==0;\n",
    "            }\n",
    "        };\n",
    "        //Function interface refresents one argument and produces a result\n",
    "        Function<Integer, Integer> squareFunction = x -> x * x;\n",
    "        Function<Integer, Integer> squareFunction2 = new Function<Integer,Integer>()\n",
    "        {\n",
    "            @Override\n",
    "            public Integer apply(Integer x)\n",
    "            {\n",
    "                return x*x;\n",
    "            }\n",
    "        };\n",
    "        \n",
    "        //Consumer represents an operation that accepts a single input argument\n",
    "        //and returns no result\n",
    "        Consumer<Integer> sysoutConsumer = System.out::println;\n",
    "        \n",
    "        Consumer<Integer> sysoutConsumer2 = new Consumer<Integer>(){\n",
    "            @Override\n",
    "            public void accept(Integer x)\n",
    "            {\n",
    "                System.out.println(x);\n",
    "            }\n",
    "        };\n",
    "        \n",
    "        numbers.stream()\n",
    "            .filter(isEvenPredicate)\n",
    "            .map(squareFunction)\n",
    "            .forEach(sysoutConsumer);\n",
    "        \n",
    "        BinaryOperator<Integer> sumBinaryOperator = Integer::sum;\n",
    "        //BinaryOperator<Integer> sumBinaryOperator = (x,y)->x+y;\n",
    "        BinaryOperator<Integer> sumBinaryOperator2 = new BinaryOperator<Integer>(){\n",
    "            @Override//function descriptor\n",
    "            public Integer apply(Integer a,Integer b)\n",
    "            {\n",
    "                return a+b;\n",
    "            }\n",
    "        };\n",
    "        \n",
    "        int sum = numbers.stream().reduce(0, sumBinaryOperator);\n",
    "        \n",
    "        System.out.println(\"Sum of numbers are : \"+sum);\n",
    "    }\n",
    "}FP03FunctionalInterfaces.main()"
   ]
  },
  {
   "cell_type": "code",
   "execution_count": 18,
   "id": "00d24dad",
   "metadata": {},
   "outputs": [
    {
     "name": "stdout",
     "output_type": "stream",
     "text": [
      "Even numbers\n",
      "12\n",
      "4\n",
      "6\n",
      "2\n",
      "4\n",
      "12\n",
      "Odd numbers\n",
      "9\n",
      "13\n",
      "15\n",
      "Numbers divisible by 3\n",
      "12\n",
      "9\n",
      "6\n",
      "12\n",
      "15\n",
      "Numbers after squaring\n",
      "[144, 81, 169, 16, 36, 4, 16, 144, 225]\n",
      "Numbers after cubing\n",
      "[1728, 729, 2197, 64, 216, 8, 64, 1728, 3375]\n",
      "Numbers after doubling\n",
      "[24, 18, 26, 8, 12, 4, 8, 24, 30]\n"
     ]
    }
   ],
   "source": [
    "//Behaviour parameterization\n",
    "import java.util.function.Consumer;\n",
    "import java.util.function.Function;\n",
    "import java.util.function.Predicate;\n",
    "import java.util.function.BinaryOperator;\n",
    "import java.util.stream.Collectors;\n",
    "public class FP03FunctionalInterfaces_Behaviour{\n",
    "    \n",
    "    private static void filterAndPrint(List<Integer> numbers,Predicate<Integer> predicate)\n",
    "    {\n",
    "        numbers.stream().filter(predicate).forEach(System.out::println);\n",
    "    }\n",
    "    private static List<Integer> performAndPrint(List<Integer> numbers,Function<Integer,Integer> function)\n",
    "    {\n",
    "        return numbers.stream().map(function).collect(Collectors.toList());\n",
    "    }\n",
    "    public static void main()\n",
    "    {\n",
    "        List<Integer> numbers = List.of(12,9,13,4,6,2,4,12,15);\n",
    "        \n",
    "        Predicate<Integer> evenPredicate = x -> x%2==0;\n",
    "        \n",
    "        System.out.println(\"Even numbers\");\n",
    "        //filterAndPrint(numbers,evenPredicate);\n",
    "        filterAndPrint(numbers,x -> x%2==0);\n",
    "        \n",
    "        Predicate<Integer> oddPredicate = x -> x%2!=0;\n",
    "        \n",
    "        System.out.println(\"Odd numbers\");\n",
    "        //filterAndPrint(numbers,oddPredicate);\n",
    "        filterAndPrint(numbers,x -> x%2!=0);\n",
    "        \n",
    "        System.out.println(\"Numbers divisible by 3\");\n",
    "        filterAndPrint(numbers,x -> x%3==0);\n",
    "        \n",
    "        System.out.println(\"Numbers after squaring\");\n",
    "        System.out.println(performAndPrint(numbers, x -> x*x));\n",
    "        \n",
    "        System.out.println(\"Numbers after cubing\");\n",
    "        System.out.println(performAndPrint(numbers, x -> x*x*x));\n",
    "        \n",
    "        System.out.println(\"Numbers after doubling\");\n",
    "        System.out.println(performAndPrint(numbers, x -> x*2));\n",
    "    }\n",
    "}FP03FunctionalInterfaces_Behaviour.main()"
   ]
  },
  {
   "cell_type": "code",
   "execution_count": 30,
   "id": "2860dabe",
   "metadata": {},
   "outputs": [
    {
     "name": "stdout",
     "output_type": "stream",
     "text": [
      "579\n",
      "30\n"
     ]
    }
   ],
   "source": [
    "import java.util.function.Supplier;\n",
    "import java.util.function.UnaryOperator;\n",
    "public class Supplier_UnaryOp_Test{\n",
    "    public static void main()\n",
    "    {\n",
    "        //does not take any parameter and returns something\n",
    "        Supplier<Integer> randomIntegerSupplier = () -> {\n",
    "            Random random = new Random();\n",
    "            return random.nextInt(1000);\n",
    "        };\n",
    "        \n",
    "        System.out.println(randomIntegerSupplier.get());\n",
    "        \n",
    "        UnaryOperator<Integer> unaryOperator = (x) -> 3 * x;\n",
    "        \n",
    "        System.out.println(unaryOperator.apply(10));\n",
    "        \n",
    "    }\n",
    "}Supplier_UnaryOp_Test.main()"
   ]
  },
  {
   "cell_type": "code",
   "execution_count": 41,
   "id": "2ec4c7aa",
   "metadata": {},
   "outputs": [
    {
     "name": "stdout",
     "output_type": "stream",
     "text": [
      "false\n",
      "true\n",
      "15 subhajit\n",
      "subhajit\n",
      "soumajit\n"
     ]
    }
   ],
   "source": [
    "import java.util.function.BiPredicate;\n",
    "import java.util.function.BiFunction;\n",
    "import java.util.function.BiConsumer;\n",
    "public class BiPredicate_Test{\n",
    "    public static void main()\n",
    "    {\n",
    "        BiPredicate<Integer, String> biPredicate = (number, str) -> {\n",
    "            return number<10 && str.length()>5;\n",
    "        };\n",
    "        \n",
    "        System.out.println(biPredicate.test(5,\"subh\"));\n",
    "        System.out.println(biPredicate.test(7,\"subhajit\"));\n",
    "        \n",
    "        BiFunction<Integer, String, String> biFunction = (number, str) -> {\n",
    "            return number + \" \" + str;\n",
    "        };\n",
    "        \n",
    "        System.out.println(biFunction.apply(15,\"subhajit\"));\n",
    "        \n",
    "        BiConsumer<String,String> biConsumer = (s1,s2) -> {\n",
    "            System.out.println(s1);\n",
    "            System.out.println(s2);\n",
    "        };\n",
    "        \n",
    "        biConsumer.accept(\"subhajit\",\"soumajit\");\n",
    "    }\n",
    "}BiPredicate_Test.main()"
   ]
  },
  {
   "cell_type": "code",
   "execution_count": 3,
   "id": "473e87dd",
   "metadata": {},
   "outputs": [],
   "source": [
    "class Course{\n",
    "    \n",
    "    private String name;\n",
    "    private String category;\n",
    "    private int reviewScore;\n",
    "    private int noOfStudents;\n",
    "    \n",
    "    public Course(String name,String category,int reviewScore,int noOfStudents)\n",
    "    {\n",
    "        this.name = name;\n",
    "        this.category = category;\n",
    "        this.reviewScore = reviewScore;\n",
    "        this.noOfStudents = noOfStudents;\n",
    "    }\n",
    "    \n",
    "    public void setName(String name)\n",
    "    {\n",
    "        this.name = name;\n",
    "    }\n",
    "    \n",
    "    public String getName()\n",
    "    {\n",
    "        return name;\n",
    "    }\n",
    "    \n",
    "    public void setCategory(String category)\n",
    "    {\n",
    "        this.category = category;\n",
    "    }\n",
    "    \n",
    "    public String getCategory()\n",
    "    {\n",
    "        return category;\n",
    "    }\n",
    "    \n",
    "    public void setReviewScore(int reviewScore)\n",
    "    {\n",
    "        this.reviewScore = reviewScore;\n",
    "    }\n",
    "    \n",
    "    public int getReviewScore()\n",
    "    {\n",
    "        return reviewScore;\n",
    "    }\n",
    "    \n",
    "    public void setNoOfStudents(int noOfStudents)\n",
    "    {\n",
    "        this.noOfStudents = noOfStudents;\n",
    "    }\n",
    "    \n",
    "    public int getNoOfStudents()\n",
    "    {\n",
    "        return noOfStudents;\n",
    "    }\n",
    "    \n",
    "    public String toString()\n",
    "    {\n",
    "        return name + \" : \" + noOfStudents + \" : \" + reviewScore;\n",
    "    }\n",
    "}"
   ]
  },
  {
   "cell_type": "code",
   "execution_count": 50,
   "id": "7389e385",
   "metadata": {},
   "outputs": [
    {
     "name": "stdout",
     "output_type": "stream",
     "text": [
      "true\n",
      "false\n",
      "false\n",
      "false\n",
      "true\n",
      "true\n",
      "true\n",
      "false\n",
      "[Microservices : 25000 : 96, API : 22000 : 97, Azure : 21000 : 99, AWS : 21000 : 92, Spring : 20000 : 98, Docker : 20000 : 92, Kubernetes : 20000 : 91, Spring Boot : 18000 : 95, FullStack : 14000 : 91]\n",
      "[Microservices : 25000 : 96, API : 22000 : 97, Azure : 21000 : 99, AWS : 21000 : 92, Spring : 20000 : 98]\n",
      "[AWS : 21000 : 92, Spring : 20000 : 98, Docker : 20000 : 92, Kubernetes : 20000 : 91, Spring Boot : 18000 : 95, FullStack : 14000 : 91]\n",
      "[AWS : 21000 : 92, Spring : 20000 : 98, Docker : 20000 : 92, Kubernetes : 20000 : 91, Spring Boot : 18000 : 95]\n",
      "[Spring : 20000 : 98, Spring Boot : 18000 : 95, API : 22000 : 97, Microservices : 25000 : 96]\n",
      "[FullStack : 14000 : 91, AWS : 21000 : 92, Azure : 21000 : 99, Docker : 20000 : 92, Kubernetes : 20000 : 91]\n",
      "Optional[FullStack : 14000 : 91]\n",
      "Optional[Microservices : 25000 : 96]\n",
      "Kubernetes : 20000 : 91\n",
      "Kubernetes : 20000 : 91\n",
      "Optional[Spring : 20000 : 98]\n",
      "Optional[Spring : 20000 : 98]\n",
      "88000\n",
      "OptionalDouble[22000.0]\n",
      "4\n",
      "OptionalInt[25000]\n",
      "OptionalInt[20000]\n",
      "{Cloud=[AWS : 21000 : 92, Azure : 21000 : 99, Docker : 20000 : 92, Kubernetes : 20000 : 91], FullStack=[FullStack : 14000 : 91], Microservices=[API : 22000 : 97, Microservices : 25000 : 96], Framework=[Spring : 20000 : 98, Spring Boot : 18000 : 95]}\n",
      "{Cloud=4, FullStack=1, Microservices=2, Framework=2}\n",
      "{Cloud=Optional[Azure : 21000 : 99], FullStack=Optional[FullStack : 14000 : 91], Microservices=Optional[API : 22000 : 97], Framework=Optional[Spring : 20000 : 98]}\n",
      "{Cloud=[AWS, Azure, Docker, Kubernetes], FullStack=[FullStack], Microservices=[API, Microservices], Framework=[Spring, Spring Boot]}\n"
     ]
    }
   ],
   "source": [
    "import java.util.List;\n",
    "import java.util.function.Predicate;\n",
    "import java.util.stream.Collectors;\n",
    "class Custom_Class_Operations{\n",
    "    public static void main()\n",
    "    {\n",
    "        List<Course> courses = List.of(new Course(\"Spring\",\"Framework\",98,20000),\n",
    "            new Course(\"Spring Boot\",\"Framework\",95,18000),\n",
    "            new Course(\"API\",\"Microservices\",97,22000),\n",
    "            new Course(\"Microservices\",\"Microservices\",96,25000),\n",
    "            new Course(\"FullStack\",\"FullStack\",91,14000),\n",
    "            new Course(\"AWS\",\"Cloud\",92,21000),\n",
    "            new Course(\"Azure\",\"Cloud\",99,21000),\n",
    "            new Course(\"Docker\",\"Cloud\",92,20000),\n",
    "            new Course(\"Kubernetes\",\"Cloud\",91,20000)\n",
    "        );\n",
    "        \n",
    "        //allMatch, nonMatch, anyMatch\n",
    "        Predicate<Course> reviewScoreGreaterThan90Predicate = course -> course.getReviewScore() > 90;\n",
    "        Predicate<Course> reviewScoreGreaterThan95Predicate = course -> course.getReviewScore() > 95;\n",
    "        Predicate<Course> reviewScoreLessThan90Predicate = course -> course.getReviewScore() < 90;\n",
    "        \n",
    "        System.out.println(courses.stream().allMatch(reviewScoreGreaterThan90Predicate));\n",
    "        System.out.println(courses.stream().allMatch(reviewScoreGreaterThan95Predicate));\n",
    "        \n",
    "        System.out.println(courses.stream().noneMatch(reviewScoreGreaterThan90Predicate));\n",
    "        System.out.println(courses.stream().noneMatch(reviewScoreGreaterThan95Predicate));\n",
    "        System.out.println(courses.stream().noneMatch(reviewScoreLessThan90Predicate));\n",
    "        \n",
    "        System.out.println(courses.stream().anyMatch(reviewScoreGreaterThan90Predicate));\n",
    "        System.out.println(courses.stream().anyMatch(reviewScoreGreaterThan95Predicate));\n",
    "        System.out.println(courses.stream().anyMatch(reviewScoreLessThan90Predicate));\n",
    "        \n",
    "        Comparator<Course> comparingByNoOfStudentsInreasing = Comparator.comparing(Course::getNoOfStudents);\n",
    "        \n",
    "        Comparator<Course> comparingByNoOfStudentsDecreasing = Comparator.comparing(Course::getNoOfStudents).reversed();\n",
    "        \n",
    "        Comparator<Course> comparingByNoOfStudentsInreasingAndNoOfReviews = Comparator.comparing(Course::getNoOfStudents)\n",
    "                                                                                    .thenComparing(Course::getReviewScore).reversed();\n",
    "        System.out.println(courses.stream().sorted(comparingByNoOfStudentsInreasingAndNoOfReviews).collect(Collectors.toList()));\n",
    "        //show top 5 results\n",
    "        System.out.println(courses.stream().sorted(comparingByNoOfStudentsInreasingAndNoOfReviews).limit(5).collect(Collectors.toList()));\n",
    "        //top 3 results are skipped\n",
    "        System.out.println(courses.stream().sorted(comparingByNoOfStudentsInreasingAndNoOfReviews).skip(3).collect(Collectors.toList()));\n",
    "        //skip top 3 and show 5 results\n",
    "        System.out.println(courses.stream().sorted(comparingByNoOfStudentsInreasingAndNoOfReviews).skip(3).limit(5).collect(Collectors.toList()));\n",
    "        //show courses until the condition breaks\n",
    "        System.out.println(courses.stream().takeWhile(course -> course.getReviewScore()>=95).collect(Collectors.toList()));\n",
    "        //keep on dropping the course until the condition does not satisfy and print all the courses after it\n",
    "        System.out.println(courses.stream().dropWhile(course -> course.getReviewScore()>=95).collect(Collectors.toList()));\n",
    "        \n",
    "        //sort by the condition and return the last element of the collection\n",
    "        System.out.println(courses.stream().max(comparingByNoOfStudentsInreasingAndNoOfReviews));\n",
    "        \n",
    "        //sort by the condition and return the first element of the collection\n",
    "        System.out.println(courses.stream().min(comparingByNoOfStudentsInreasingAndNoOfReviews));\n",
    "        \n",
    "        System.out.println(courses.stream().filter(reviewScoreLessThan90Predicate).min(comparingByNoOfStudentsInreasingAndNoOfReviews)\n",
    "                          .orElse(new Course(\"Kubernetes\",\"Cloud\",91,20000)));//OrElse checks whether a result exists or not\n",
    "        \n",
    "        System.out.println(courses.stream().filter(reviewScoreLessThan90Predicate).min(comparingByNoOfStudentsInreasingAndNoOfReviews)\n",
    "                          .orElse(new Course(\"Kubernetes\",\"Cloud\",91,20000)));\n",
    "        \n",
    "        System.out.println(courses.stream().filter(reviewScoreGreaterThan95Predicate).findFirst());\n",
    "        \n",
    "        System.out.println(courses.stream().filter(reviewScoreGreaterThan95Predicate).findAny());\n",
    "        \n",
    "        System.out.println(courses.stream().filter(reviewScoreGreaterThan95Predicate).mapToInt(Course::getNoOfStudents).sum());\n",
    "        \n",
    "        System.out.println(courses.stream().filter(reviewScoreGreaterThan95Predicate).mapToInt(Course::getNoOfStudents).average());\n",
    "        \n",
    "        System.out.println(courses.stream().filter(reviewScoreGreaterThan95Predicate).count());\n",
    "        \n",
    "        System.out.println(courses.stream().filter(reviewScoreGreaterThan95Predicate).mapToInt(Course::getNoOfStudents).max());\n",
    "        \n",
    "        System.out.println(courses.stream().filter(reviewScoreGreaterThan95Predicate).mapToInt(Course::getNoOfStudents).min());\n",
    "        \n",
    "        System.out.println(courses.stream().collect(Collectors.groupingBy(Course::getCategory)));\n",
    "        \n",
    "        System.out.println(courses.stream().collect(Collectors.groupingBy(Course::getCategory,Collectors.counting())));\n",
    "        \n",
    "        System.out.println(courses.stream().collect(Collectors.groupingBy(Course::getCategory,Collectors.maxBy(Comparator.comparing(Course::getReviewScore)))));\n",
    "        \n",
    "        System.out.println(courses.stream().collect(Collectors.groupingBy(Course::getCategory, Collectors.mapping(Course::getName, Collectors.toList()))));\n",
    "    }\n",
    "}Custom_Class_Operations.main()"
   ]
  },
  {
   "cell_type": "code",
   "execution_count": 51,
   "id": "ab037ff3",
   "metadata": {},
   "outputs": [],
   "source": [
    "List<Integer> numbers = List.of(12,9,13,4,6,2,4,12,15);"
   ]
  },
  {
   "cell_type": "code",
   "execution_count": 52,
   "id": "3676e187",
   "metadata": {},
   "outputs": [
    {
     "data": {
      "text/plain": [
       "java.util.stream.ReferencePipeline$Head@37b7d136"
      ]
     },
     "execution_count": 52,
     "metadata": {},
     "output_type": "execute_result"
    }
   ],
   "source": [
    "numbers.stream()"
   ]
  },
  {
   "cell_type": "code",
   "execution_count": 59,
   "id": "077d713a",
   "metadata": {},
   "outputs": [
    {
     "data": {
      "text/plain": [
       "9"
      ]
     },
     "execution_count": 59,
     "metadata": {},
     "output_type": "execute_result"
    }
   ],
   "source": [
    "import java.util.stream.*;\n",
    "Stream.of(12,9,13,4,6,2,4,12,15).count()"
   ]
  },
  {
   "cell_type": "code",
   "execution_count": 63,
   "id": "8db011ef",
   "metadata": {},
   "outputs": [
    {
     "data": {
      "text/plain": [
       "java.util.stream.ReferencePipeline$Head@15745a68"
      ]
     },
     "execution_count": 63,
     "metadata": {},
     "output_type": "execute_result"
    }
   ],
   "source": [
    "Stream.of(12,9,13,4,6,2,4,12,15)"
   ]
  },
  {
   "cell_type": "code",
   "execution_count": 60,
   "id": "3c0c68f7",
   "metadata": {},
   "outputs": [
    {
     "data": {
      "text/plain": [
       "77"
      ]
     },
     "execution_count": 60,
     "metadata": {},
     "output_type": "execute_result"
    }
   ],
   "source": [
    "Stream.of(12,9,13,4,6,2,4,12,15).reduce(0,Integer::sum)"
   ]
  },
  {
   "cell_type": "code",
   "execution_count": 61,
   "id": "3a9f0d37",
   "metadata": {},
   "outputs": [],
   "source": [
    "int[] numberArray = {12,9,13,4,6,2,4,12,15};"
   ]
  },
  {
   "cell_type": "code",
   "execution_count": 64,
   "id": "bc0373d8",
   "metadata": {},
   "outputs": [
    {
     "data": {
      "text/plain": [
       "java.util.stream.IntPipeline$Head@dea9f88"
      ]
     },
     "execution_count": 64,
     "metadata": {},
     "output_type": "execute_result"
    }
   ],
   "source": [
    "//Int pipeline contains primitive integer value\n",
    "Arrays.stream(numberArray);"
   ]
  },
  {
   "cell_type": "code",
   "execution_count": 65,
   "id": "792870f7",
   "metadata": {},
   "outputs": [
    {
     "data": {
      "text/plain": [
       "77"
      ]
     },
     "execution_count": 65,
     "metadata": {},
     "output_type": "execute_result"
    }
   ],
   "source": [
    "Arrays.stream(numberArray).sum()"
   ]
  },
  {
   "cell_type": "code",
   "execution_count": 66,
   "id": "99131593",
   "metadata": {},
   "outputs": [
    {
     "data": {
      "text/plain": [
       "OptionalDouble[8.555555555555555]"
      ]
     },
     "execution_count": 66,
     "metadata": {},
     "output_type": "execute_result"
    }
   ],
   "source": [
    "Arrays.stream(numberArray).average()"
   ]
  },
  {
   "cell_type": "code",
   "execution_count": 67,
   "id": "47c20b8e",
   "metadata": {},
   "outputs": [
    {
     "data": {
      "text/plain": [
       "OptionalInt[2]"
      ]
     },
     "execution_count": 67,
     "metadata": {},
     "output_type": "execute_result"
    }
   ],
   "source": [
    "Arrays.stream(numberArray).min()"
   ]
  },
  {
   "cell_type": "code",
   "execution_count": 68,
   "id": "a37e69ad",
   "metadata": {},
   "outputs": [
    {
     "data": {
      "text/plain": [
       "OptionalInt[15]"
      ]
     },
     "execution_count": 68,
     "metadata": {},
     "output_type": "execute_result"
    }
   ],
   "source": [
    "Arrays.stream(numberArray).max()"
   ]
  },
  {
   "cell_type": "code",
   "execution_count": 69,
   "id": "809c76be",
   "metadata": {},
   "outputs": [
    {
     "data": {
      "text/plain": [
       "java.util.stream.IntPipeline$Head@20442c71"
      ]
     },
     "execution_count": 69,
     "metadata": {},
     "output_type": "execute_result"
    }
   ],
   "source": [
    "IntStream.range(1,10)"
   ]
  },
  {
   "cell_type": "code",
   "execution_count": 70,
   "id": "0b2cf5e5",
   "metadata": {},
   "outputs": [
    {
     "data": {
      "text/plain": [
       "45"
      ]
     },
     "execution_count": 70,
     "metadata": {},
     "output_type": "execute_result"
    }
   ],
   "source": [
    "IntStream.range(1,10).sum()"
   ]
  },
  {
   "cell_type": "code",
   "execution_count": 71,
   "id": "ec0f3fd4",
   "metadata": {},
   "outputs": [
    {
     "data": {
      "text/plain": [
       "55"
      ]
     },
     "execution_count": 71,
     "metadata": {},
     "output_type": "execute_result"
    }
   ],
   "source": [
    "IntStream.rangeClosed(1,10).sum()"
   ]
  },
  {
   "cell_type": "code",
   "execution_count": 74,
   "id": "1f862264",
   "metadata": {},
   "outputs": [
    {
     "name": "stdout",
     "output_type": "stream",
     "text": [
      "1\n",
      "3\n",
      "5\n",
      "7\n",
      "9\n",
      "11\n",
      "13\n",
      "15\n",
      "17\n",
      "19\n"
     ]
    },
    {
     "data": {
      "text/plain": [
       "100"
      ]
     },
     "execution_count": 74,
     "metadata": {},
     "output_type": "execute_result"
    }
   ],
   "source": [
    "IntStream.iterate(1,e -> e + 2).limit(10).peek(System.out::println).sum()"
   ]
  },
  {
   "cell_type": "code",
   "execution_count": 76,
   "id": "00d6a563",
   "metadata": {},
   "outputs": [
    {
     "name": "stdout",
     "output_type": "stream",
     "text": [
      "0\n",
      "2\n",
      "4\n",
      "6\n",
      "8\n",
      "10\n",
      "12\n",
      "14\n",
      "16\n",
      "18\n"
     ]
    },
    {
     "data": {
      "text/plain": [
       "90"
      ]
     },
     "execution_count": 76,
     "metadata": {},
     "output_type": "execute_result"
    }
   ],
   "source": [
    "IntStream.iterate(0,e -> e + 2).limit(10).peek(System.out::println).sum()"
   ]
  },
  {
   "cell_type": "code",
   "execution_count": 79,
   "id": "4f9084c9",
   "metadata": {},
   "outputs": [
    {
     "name": "stdout",
     "output_type": "stream",
     "text": [
      "2\n",
      "4\n",
      "8\n",
      "16\n",
      "32\n",
      "64\n",
      "128\n",
      "256\n",
      "512\n",
      "1024\n"
     ]
    },
    {
     "data": {
      "text/plain": [
       "2046"
      ]
     },
     "execution_count": 79,
     "metadata": {},
     "output_type": "execute_result"
    }
   ],
   "source": [
    "IntStream.iterate(2,e -> e * 2).limit(10).peek(System.out::println).sum()"
   ]
  },
  {
   "cell_type": "code",
   "execution_count": 82,
   "id": "5fca08b2",
   "metadata": {},
   "outputs": [
    {
     "data": {
      "text/plain": [
       "[2, 4, 8, 16, 32, 64, 128, 256, 512, 1024]"
      ]
     },
     "execution_count": 82,
     "metadata": {},
     "output_type": "execute_result"
    }
   ],
   "source": [
    "//Cannot directly convert a primitive stream to list\n",
    "//IntStream.iterate(2,e -> e * 2).limit(10).collect(Collectors.toList())\n",
    "\n",
    "IntStream.iterate(2,e -> e * 2).limit(10).boxed().collect(Collectors.toList())"
   ]
  },
  {
   "cell_type": "code",
   "execution_count": 83,
   "id": "61d7297f",
   "metadata": {},
   "outputs": [
    {
     "data": {
      "text/plain": [
       "2147483647"
      ]
     },
     "execution_count": 83,
     "metadata": {},
     "output_type": "execute_result"
    }
   ],
   "source": [
    "Integer.MAX_VALUE"
   ]
  },
  {
   "cell_type": "code",
   "execution_count": 84,
   "id": "492c84fd",
   "metadata": {},
   "outputs": [
    {
     "data": {
      "text/plain": [
       "9223372036854775807"
      ]
     },
     "execution_count": 84,
     "metadata": {},
     "output_type": "execute_result"
    }
   ],
   "source": [
    "Long.MAX_VALUE"
   ]
  },
  {
   "cell_type": "code",
   "execution_count": 85,
   "id": "aed3275b",
   "metadata": {},
   "outputs": [
    {
     "data": {
      "text/plain": [
       "0"
      ]
     },
     "execution_count": 85,
     "metadata": {},
     "output_type": "execute_result"
    }
   ],
   "source": [
    "IntStream.rangeClosed(1,50).reduce(1, (x,y)->x*y)"
   ]
  },
  {
   "cell_type": "code",
   "execution_count": 87,
   "id": "e7192a3a",
   "metadata": {},
   "outputs": [
    {
     "data": {
      "text/plain": [
       "-3258495067890909184"
      ]
     },
     "execution_count": 87,
     "metadata": {},
     "output_type": "execute_result"
    }
   ],
   "source": [
    "LongStream.rangeClosed(1,50).reduce(1L, (x,y)->x*y)"
   ]
  },
  {
   "cell_type": "code",
   "execution_count": 88,
   "id": "b2ae1947",
   "metadata": {},
   "outputs": [
    {
     "data": {
      "text/plain": [
       "3628800"
      ]
     },
     "execution_count": 88,
     "metadata": {},
     "output_type": "execute_result"
    }
   ],
   "source": [
    "LongStream.rangeClosed(1,10).reduce(1L, (x,y)->x*y)"
   ]
  },
  {
   "cell_type": "code",
   "execution_count": 89,
   "id": "ec41c0ef",
   "metadata": {},
   "outputs": [
    {
     "data": {
      "text/plain": [
       "2432902008176640000"
      ]
     },
     "execution_count": 89,
     "metadata": {},
     "output_type": "execute_result"
    }
   ],
   "source": [
    "LongStream.rangeClosed(1,20).reduce(1L, (x,y)->x*y)"
   ]
  },
  {
   "cell_type": "code",
   "execution_count": 90,
   "id": "b83b56fe",
   "metadata": {},
   "outputs": [
    {
     "data": {
      "text/plain": [
       "-8764578968847253504"
      ]
     },
     "execution_count": 90,
     "metadata": {},
     "output_type": "execute_result"
    }
   ],
   "source": [
    "LongStream.rangeClosed(1,30).reduce(1L, (x,y)->x*y)"
   ]
  },
  {
   "cell_type": "code",
   "execution_count": 92,
   "id": "953d8661",
   "metadata": {},
   "outputs": [
    {
     "data": {
      "text/plain": [
       "30414093201713378043612608166064768844377641568960512000000000000"
      ]
     },
     "execution_count": 92,
     "metadata": {},
     "output_type": "execute_result"
    }
   ],
   "source": [
    "LongStream.rangeClosed(1,50).mapToObj(BigInteger::valueOf).reduce(BigInteger.ONE, BigInteger::multiply)"
   ]
  },
  {
   "cell_type": "code",
   "execution_count": 93,
   "id": "d2c6ecc4",
   "metadata": {},
   "outputs": [],
   "source": [
    "List<String> courses = List.of(\"Spring\",\"Spring Boot\",\"API\",\"Microservices\",\"AWS\",\"PCP\",\"Azure\",\"Docker\",\"Kubernetes\");"
   ]
  },
  {
   "cell_type": "code",
   "execution_count": 94,
   "id": "ac19adc4",
   "metadata": {},
   "outputs": [
    {
     "data": {
      "text/plain": [
       "Spring Spring Boot API Microservices AWS PCP Azure Docker Kubernetes"
      ]
     },
     "execution_count": 94,
     "metadata": {},
     "output_type": "execute_result"
    }
   ],
   "source": [
    "courses.stream().collect(Collectors.joining(\" \"));"
   ]
  },
  {
   "cell_type": "code",
   "execution_count": 95,
   "id": "1f86b9db",
   "metadata": {},
   "outputs": [
    {
     "data": {
      "text/plain": [
       "Spring,Spring Boot,API,Microservices,AWS,PCP,Azure,Docker,Kubernetes"
      ]
     },
     "execution_count": 95,
     "metadata": {},
     "output_type": "execute_result"
    }
   ],
   "source": [
    "courses.stream().collect(Collectors.joining(\",\"));"
   ]
  },
  {
   "cell_type": "code",
   "execution_count": 98,
   "id": "8c71ff57",
   "metadata": {},
   "outputs": [],
   "source": [
    "String arr[] = \"Spring\".split(\"\")"
   ]
  },
  {
   "cell_type": "code",
   "execution_count": 102,
   "id": "773bc07d",
   "metadata": {},
   "outputs": [
    {
     "name": "stdout",
     "output_type": "stream",
     "text": [
      "S\n",
      "p\n",
      "r\n",
      "i\n",
      "n\n",
      "g\n"
     ]
    }
   ],
   "source": [
    "for(String i:arr) \n",
    "{\n",
    "    System.out.println(i);\n",
    "}"
   ]
  },
  {
   "cell_type": "code",
   "execution_count": 103,
   "id": "09fc4bc8",
   "metadata": {},
   "outputs": [
    {
     "data": {
      "text/plain": [
       "[[Ljava.lang.String;@4e68c502, [Ljava.lang.String;@64255d8b, [Ljava.lang.String;@62a26994, [Ljava.lang.String;@2617066f, [Ljava.lang.String;@2edf977a, [Ljava.lang.String;@60d84e2f, [Ljava.lang.String;@11c76569, [Ljava.lang.String;@f7d2d40, [Ljava.lang.String;@5d4b0f92]"
      ]
     },
     "execution_count": 103,
     "metadata": {},
     "output_type": "execute_result"
    }
   ],
   "source": [
    "courses.stream().map(course -> course.split(\"\")).collect(Collectors.toList())"
   ]
  },
  {
   "cell_type": "code",
   "execution_count": 109,
   "id": "baf50f0e",
   "metadata": {},
   "outputs": [
    {
     "data": {
      "text/plain": [
       "[S, p, r, i, n, g,  , B, o, t, A, P, I, M, c, s, e, v, W, C, z, u, D, k, K, b]"
      ]
     },
     "execution_count": 109,
     "metadata": {},
     "output_type": "execute_result"
    }
   ],
   "source": [
    "courses.stream().map(course -> course.split(\"\")).flatMap(Arrays::stream).distinct().collect(Collectors.toList())"
   ]
  },
  {
   "cell_type": "code",
   "execution_count": 110,
   "id": "d15497bb",
   "metadata": {},
   "outputs": [],
   "source": [
    "List<String> courses2 = List.of(\"Spring\",\"Spring Boot\",\"API\",\"Microservices\",\"AWS\",\"PCP\",\"Azure\",\"Docker\",\"Kubernetes\");"
   ]
  },
  {
   "cell_type": "code",
   "execution_count": 113,
   "id": "ccf8c6b7",
   "metadata": {},
   "outputs": [
    {
     "data": {
      "text/plain": [
       "[[Spring, Spring], [Spring, Spring Boot], [Spring, API], [Spring, Microservices], [Spring, AWS], [Spring, PCP], [Spring, Azure], [Spring, Docker], [Spring, Kubernetes], [Spring Boot, Spring], [Spring Boot, Spring Boot], [Spring Boot, API], [Spring Boot, Microservices], [Spring Boot, AWS], [Spring Boot, PCP], [Spring Boot, Azure], [Spring Boot, Docker], [Spring Boot, Kubernetes], [API, Spring], [API, Spring Boot], [API, API], [API, Microservices], [API, AWS], [API, PCP], [API, Azure], [API, Docker], [API, Kubernetes], [Microservices, Spring], [Microservices, Spring Boot], [Microservices, API], [Microservices, Microservices], [Microservices, AWS], [Microservices, PCP], [Microservices, Azure], [Microservices, Docker], [Microservices, Kubernetes], [AWS, Spring], [AWS, Spring Boot], [AWS, API], [AWS, Microservices], [AWS, AWS], [AWS, PCP], [AWS, Azure], [AWS, Docker], [AWS, Kubernetes], [PCP, Spring], [PCP, Spring Boot], [PCP, API], [PCP, Microservices], [PCP, AWS], [PCP, PCP], [PCP, Azure], [PCP, Docker], [PCP, Kubernetes], [Azure, Spring], [Azure, Spring Boot], [Azure, API], [Azure, Microservices], [Azure, AWS], [Azure, PCP], [Azure, Azure], [Azure, Docker], [Azure, Kubernetes], [Docker, Spring], [Docker, Spring Boot], [Docker, API], [Docker, Microservices], [Docker, AWS], [Docker, PCP], [Docker, Azure], [Docker, Docker], [Docker, Kubernetes], [Kubernetes, Spring], [Kubernetes, Spring Boot], [Kubernetes, API], [Kubernetes, Microservices], [Kubernetes, AWS], [Kubernetes, PCP], [Kubernetes, Azure], [Kubernetes, Docker], [Kubernetes, Kubernetes]]"
      ]
     },
     "execution_count": 113,
     "metadata": {},
     "output_type": "execute_result"
    }
   ],
   "source": [
    "courses.stream().flatMap(course -> courses2.stream().map(course2 -> List.of(course,course2))).collect(Collectors.toList())"
   ]
  },
  {
   "cell_type": "code",
   "execution_count": 114,
   "id": "8b10ecfe",
   "metadata": {},
   "outputs": [
    {
     "data": {
      "text/plain": [
       "[[Spring, Spring], [Spring Boot, Spring Boot], [API, API], [Microservices, Microservices], [AWS, AWS], [PCP, PCP], [Azure, Azure], [Docker, Docker], [Kubernetes, Kubernetes]]"
      ]
     },
     "execution_count": 114,
     "metadata": {},
     "output_type": "execute_result"
    }
   ],
   "source": [
    "courses.stream().flatMap(course -> courses2.stream().map(course2 -> List.of(course,course2))).filter(list -> list.get(0).equals(list.get(1))).collect(Collectors.toList())"
   ]
  },
  {
   "cell_type": "code",
   "execution_count": 115,
   "id": "b7155f45",
   "metadata": {},
   "outputs": [
    {
     "data": {
      "text/plain": [
       "[[Spring, Spring Boot], [Spring, API], [Spring, Microservices], [Spring, AWS], [Spring, PCP], [Spring, Azure], [Spring, Docker], [Spring, Kubernetes], [Spring Boot, Spring], [Spring Boot, API], [Spring Boot, Microservices], [Spring Boot, AWS], [Spring Boot, PCP], [Spring Boot, Azure], [Spring Boot, Docker], [Spring Boot, Kubernetes], [API, Spring], [API, Spring Boot], [API, Microservices], [API, AWS], [API, PCP], [API, Azure], [API, Docker], [API, Kubernetes], [Microservices, Spring], [Microservices, Spring Boot], [Microservices, API], [Microservices, AWS], [Microservices, PCP], [Microservices, Azure], [Microservices, Docker], [Microservices, Kubernetes], [AWS, Spring], [AWS, Spring Boot], [AWS, API], [AWS, Microservices], [AWS, PCP], [AWS, Azure], [AWS, Docker], [AWS, Kubernetes], [PCP, Spring], [PCP, Spring Boot], [PCP, API], [PCP, Microservices], [PCP, AWS], [PCP, Azure], [PCP, Docker], [PCP, Kubernetes], [Azure, Spring], [Azure, Spring Boot], [Azure, API], [Azure, Microservices], [Azure, AWS], [Azure, PCP], [Azure, Docker], [Azure, Kubernetes], [Docker, Spring], [Docker, Spring Boot], [Docker, API], [Docker, Microservices], [Docker, AWS], [Docker, PCP], [Docker, Azure], [Docker, Kubernetes], [Kubernetes, Spring], [Kubernetes, Spring Boot], [Kubernetes, API], [Kubernetes, Microservices], [Kubernetes, AWS], [Kubernetes, PCP], [Kubernetes, Azure], [Kubernetes, Docker]]"
      ]
     },
     "execution_count": 115,
     "metadata": {},
     "output_type": "execute_result"
    }
   ],
   "source": [
    "courses.stream().flatMap(course -> courses2.stream().map(course2 -> List.of(course,course2))).filter(list -> !list.get(0).equals(list.get(1))).collect(Collectors.toList())"
   ]
  },
  {
   "cell_type": "code",
   "execution_count": 118,
   "id": "ef2268fe",
   "metadata": {},
   "outputs": [
    {
     "data": {
      "text/plain": [
       "[[Spring, Docker], [API, AWS], [API, PCP], [AWS, API], [AWS, PCP], [PCP, API], [PCP, AWS], [Docker, Spring]]"
      ]
     },
     "execution_count": 118,
     "metadata": {},
     "output_type": "execute_result"
    }
   ],
   "source": [
    "courses.stream().flatMap(course -> courses2.stream().filter(course2 -> course2.length()==course.length()).map(course2 -> List.of(course,course2))).filter(list -> !list.get(0).equals(list.get(1))).collect(Collectors.toList())"
   ]
  },
  {
   "cell_type": "code",
   "execution_count": 4,
   "id": "e3d497f2",
   "metadata": {},
   "outputs": [],
   "source": [
    "import java.util.function.Predicate;\n",
    "int cuttOffReviewScore = 95;\n",
    "Predicate<Course> reviewScoreGreaterThanCutoffScore = course -> course.getReviewScore() > cuttOffReviewScore; "
   ]
  },
  {
   "cell_type": "code",
   "execution_count": 5,
   "id": "28934af6",
   "metadata": {},
   "outputs": [],
   "source": [
    "//higher order function\n",
    "public static Predicate<Course> createCustomPredicate(int cutoffReviewScore)\n",
    "{\n",
    "    return course -> course.getReviewScore() > cutoffReviewScore;\n",
    "}//returning a method from a method"
   ]
  },
  {
   "cell_type": "code",
   "execution_count": 6,
   "id": "e43fe066",
   "metadata": {},
   "outputs": [],
   "source": [
    "Predicate<Course> reviewScoreGreaterThan95 = createCustomPredicate(95);\n",
    "Predicate<Course> reviewScoreGreaterThan95 = createCustomPredicate(90);"
   ]
  },
  {
   "cell_type": "markdown",
   "id": "faa60e05",
   "metadata": {},
   "source": [
    "### Performance in functional programming"
   ]
  },
  {
   "cell_type": "code",
   "execution_count": 7,
   "id": "5cbcfaec",
   "metadata": {},
   "outputs": [],
   "source": [
    "List<String> courses = List.of(\"Spring\",\"Spring Boot\",\"API\",\"Microservices\",\"AWS\",\"PCF\",\"Azure\",\"Docker\",\"Kubernetes\");"
   ]
  },
  {
   "cell_type": "code",
   "execution_count": 8,
   "id": "f179a6ce",
   "metadata": {},
   "outputs": [
    {
     "data": {
      "text/plain": [
       "Optional[MICROSERVICES]"
      ]
     },
     "execution_count": 8,
     "metadata": {},
     "output_type": "execute_result"
    }
   ],
   "source": [
    "courses.stream().filter(courses -> courses.length()>11).map(String::toUpperCase).findFirst();"
   ]
  },
  {
   "cell_type": "code",
   "execution_count": 9,
   "id": "91638d38",
   "metadata": {},
   "outputs": [
    {
     "name": "stdout",
     "output_type": "stream",
     "text": [
      "Spring\n",
      "Spring Boot\n",
      "API\n",
      "Microservices\n",
      "MICROSERVICES\n"
     ]
    },
    {
     "data": {
      "text/plain": [
       "Optional[MICROSERVICES]"
      ]
     },
     "execution_count": 9,
     "metadata": {},
     "output_type": "execute_result"
    }
   ],
   "source": [
    "courses.stream().peek(System.out::println).filter(courses -> courses.length()>11).map(String::toUpperCase).peek(System.out::println).findFirst();\n",
    "\n",
    "//intermediate operation execute after knowing the terminal operation"
   ]
  },
  {
   "cell_type": "markdown",
   "id": "7448dbef",
   "metadata": {},
   "source": [
    "### Functional code running in parallel programming"
   ]
  },
  {
   "cell_type": "code",
   "execution_count": 24,
   "id": "42d72bb4",
   "metadata": {},
   "outputs": [
    {
     "name": "stdout",
     "output_type": "stream",
     "text": [
      "499999999500000000\n",
      "1711\n",
      "499999999500000000\n",
      "872\n"
     ]
    }
   ],
   "source": [
    "import java.util.stream.LongStream;\n",
    "public class Functional_Code_Parallel{\n",
    "    public static void main()\n",
    "    {\n",
    "        long time = System.currentTimeMillis();\n",
    "        //0,1000000000\n",
    "        System.out.println(LongStream.range(0,1000000000).sum());\n",
    "        System.out.println(System.currentTimeMillis() - time);\n",
    "        time = System.currentTimeMillis();\n",
    "        //parallelize functional code\n",
    "        System.out.println(LongStream.range(0,1000000000).parallel().sum());\n",
    "        System.out.println(System.currentTimeMillis() - time);\n",
    "    }\n",
    "}Functional_Code_Parallel.main()"
   ]
  },
  {
   "cell_type": "markdown",
   "id": "698a2a44",
   "metadata": {},
   "source": [
    "### Change all the elements of the list using a single method"
   ]
  },
  {
   "cell_type": "code",
   "execution_count": 25,
   "id": "4d1666f0",
   "metadata": {},
   "outputs": [
    {
     "data": {
      "text/plain": [
       "[Spring, Spring Boot, API, Microservices, AWS, PCF, Azure, Docker, Kubernetes]"
      ]
     },
     "execution_count": 25,
     "metadata": {},
     "output_type": "execute_result"
    }
   ],
   "source": [
    "courses"
   ]
  },
  {
   "cell_type": "code",
   "execution_count": 26,
   "id": "61f7984a",
   "metadata": {},
   "outputs": [
    {
     "ename": "EvalException",
     "evalue": "null",
     "output_type": "error",
     "traceback": [
      "\u001b[1m\u001b[31m---------------------------------------------------------------------------\u001b[0m",
      "\u001b[1m\u001b[31mjava.lang.UnsupportedOperationException: null\u001b[0m",
      "\u001b[1m\u001b[31m\tat java.base/java.util.ImmutableCollections.uoe(ImmutableCollections.java:72)\u001b[0m",
      "\u001b[1m\u001b[31m\tat java.base/java.util.ImmutableCollections$AbstractImmutableList.replaceAll(ImmutableCollections.java:109)\u001b[0m",
      "\u001b[1m\u001b[31m\tat .(#38:1)\u001b[0m"
     ]
    }
   ],
   "source": [
    "courses.replaceAll(str -> str.toUpperCase())\n",
    "//using List.of we created an immutable collection"
   ]
  },
  {
   "cell_type": "code",
   "execution_count": 29,
   "id": "37759e61",
   "metadata": {},
   "outputs": [],
   "source": [
    "List<String> modifyableCourses = new ArrayList<>(courses);\n",
    "//changing immutable collection to mutable collection\n",
    "modifyableCourses.replaceAll(str -> str.toUpperCase())"
   ]
  },
  {
   "cell_type": "code",
   "execution_count": 30,
   "id": "c439cc48",
   "metadata": {},
   "outputs": [
    {
     "data": {
      "text/plain": [
       "[SPRING, SPRING BOOT, API, MICROSERVICES, AWS, PCF, AZURE, DOCKER, KUBERNETES]"
      ]
     },
     "execution_count": 30,
     "metadata": {},
     "output_type": "execute_result"
    }
   ],
   "source": [
    "modifyableCourses"
   ]
  },
  {
   "cell_type": "code",
   "execution_count": 32,
   "id": "54c8cfc2",
   "metadata": {},
   "outputs": [
    {
     "data": {
      "text/plain": [
       "[SPRING, SPRING BOOT, MICROSERVICES, DOCKER, KUBERNETES]"
      ]
     },
     "execution_count": 32,
     "metadata": {},
     "output_type": "execute_result"
    }
   ],
   "source": [
    "modifyableCourses.removeIf(course -> course.length()<6);\n",
    "modifyableCourses"
   ]
  },
  {
   "cell_type": "markdown",
   "id": "2fc37c4a",
   "metadata": {},
   "source": [
    "### Process files using Functional programming"
   ]
  },
  {
   "cell_type": "code",
   "execution_count": 36,
   "id": "f492d7b4",
   "metadata": {},
   "outputs": [
    {
     "name": "stdout",
     "output_type": "stream",
     "text": [
      "A\n",
      "Present\n",
      "Some\n",
      "Text\n",
      "be\n",
      "here\n",
      "in\n",
      "lot\n",
      "of\n",
      "saved\n",
      "text\n",
      "that\n",
      "will\n"
     ]
    }
   ],
   "source": [
    "import java.nio.file.Files;\n",
    "import java.nio.file.Paths;\n",
    "Files.lines(Paths.get(\"file.txt\")).map(str -> str.split(\" \")).flatMap(Arrays::stream).distinct().sorted().forEach(System.out::println);"
   ]
  },
  {
   "cell_type": "code",
   "execution_count": 40,
   "id": "1ca7fb6d",
   "metadata": {},
   "outputs": [
    {
     "name": "stdout",
     "output_type": "stream",
     "text": [
      "./.ipynb_checkpoints\n"
     ]
    }
   ],
   "source": [
    "//get all files in current path and filter the directories out of it\n",
    "Files.list(Paths.get(\".\")).filter(Files::isDirectory).forEach(System.out::println);"
   ]
  },
  {
   "cell_type": "code",
   "execution_count": 54,
   "id": "085fa108",
   "metadata": {},
   "outputs": [
    {
     "name": "stdout",
     "output_type": "stream",
     "text": [
      "66 : 0\n",
      "66 : 1\n",
      "66 : 2\n",
      "66 : 3\n",
      "66 : 4\n",
      "66 : 5\n",
      "66 : 6\n",
      "66 : 7\n",
      "66 : 8\n",
      "66 : 9\n",
      "66 : 10\n",
      "66 : 11\n",
      "66 : 12\n",
      "66 : 13\n",
      "66 : 14\n",
      "66 : 15\n",
      "66 : 16\n",
      "66 : 17\n",
      "66 : 18\n",
      "66 : 19\n",
      "66 : 20\n",
      "66 : 2167 : 0\n",
      "67 : 1\n",
      "67 : 2\n",
      "67 : 3\n",
      "67 : 4\n",
      "67 : 5\n",
      "67 : 6\n",
      "67 : 7\n",
      "67 : 8\n",
      "67 : 9\n",
      "67 : 10\n",
      "67 : 11\n",
      "67 : 12\n",
      "67 : 13\n",
      "67 : 14\n",
      "\n"
     ]
    }
   ],
   "source": [
    "import java.util.stream.IntStream;\n",
    "public class Threads_Functional{\n",
    "    public static void main()\n",
    "    {\n",
    "        Runnable runnable = new Runnable()\n",
    "        {\n",
    "            @Override\n",
    "            public void run()\n",
    "            {\n",
    "                for(int i=0;i<10000;i++)\n",
    "                {\n",
    "                    System.out.println(Thread.currentThread().getId()+\" : \"+i);\n",
    "                }\n",
    "            }\n",
    "        };\n",
    "        //lambda expression\n",
    "        Runnable runnable2 = () -> {\n",
    "               for(int i=0;i<10000;i++)\n",
    "                {\n",
    "                    System.out.println(Thread.currentThread().getId()+\" : \"+i);\n",
    "                }\n",
    "        };\n",
    "        \n",
    "        Runnable runnable3 = () -> {\n",
    "               IntStream.range(0,10000).forEach(\n",
    "               i->System.out.println(Thread.currentThread().getId()+\" : \"+i));\n",
    "        };\n",
    "        \n",
    "        Thread thread = new Thread(runnable3);\n",
    "        thread.start();\n",
    "        \n",
    "        Thread thread1 = new Thread(runnable3);\n",
    "        thread1.start();\n",
    "        \n",
    "        Thread thread2 = new Thread(runnable3);\n",
    "        thread2.start();\n",
    "        \n",
    "    }\n",
    "}Threads_Functional.main();"
   ]
  },
  {
   "cell_type": "code",
   "execution_count": null,
   "id": "9681db12",
   "metadata": {},
   "outputs": [],
   "source": []
  }
 ],
 "metadata": {
  "kernelspec": {
   "display_name": "Java",
   "language": "java",
   "name": "java"
  },
  "language_info": {
   "codemirror_mode": "java",
   "file_extension": ".jshell",
   "mimetype": "text/x-java-source",
   "name": "Java",
   "pygments_lexer": "java",
   "version": "11.0.18+10-post-Ubuntu-0ubuntu122.04"
  }
 },
 "nbformat": 4,
 "nbformat_minor": 5
}
