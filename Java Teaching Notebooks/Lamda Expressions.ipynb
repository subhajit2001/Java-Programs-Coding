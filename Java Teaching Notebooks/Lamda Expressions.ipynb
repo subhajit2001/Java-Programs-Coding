{
 "cells": [
  {
   "cell_type": "markdown",
   "id": "db30b61a",
   "metadata": {},
   "source": [
    "() -> 123.45\n",
    "    \n",
    "<br/>\n",
    "<code>\n",
    "double myMeth()\n",
    "{\n",
    "    return 123.45;\n",
    "}\n",
    "</code>\n",
    "\n",
    "() -> Math.random()*100\n",
    "\n",
    "#### Parameterized Lambda Expression\n",
    "\n",
    "(n) -> (n%2)==0"
   ]
  },
  {
   "cell_type": "code",
   "execution_count": 3,
   "id": "4bacb133",
   "metadata": {},
   "outputs": [],
   "source": [
    "@FunctionalInterface\n",
    "interface MyNumber{\n",
    " double getValue();//implicitly abstract method\n",
    "}"
   ]
  },
  {
   "cell_type": "code",
   "execution_count": 4,
   "id": "c80045d3",
   "metadata": {},
   "outputs": [
    {
     "name": "stdout",
     "output_type": "stream",
     "text": [
      "REPL.$JShell$16$$Lambda$411/0x0000000840276440@e5c8e44\n"
     ]
    }
   ],
   "source": [
    "//Create a reference to MyNumber instance\n",
    "MyNumber myNum;\n",
    "\n",
    "//Use a lambda in an assignment context\n",
    "myNum = () -> 123.45;\n",
    "System.out.println(myNum);"
   ]
  },
  {
   "cell_type": "code",
   "execution_count": 5,
   "id": "9ebae6ac",
   "metadata": {},
   "outputs": [
    {
     "name": "stdout",
     "output_type": "stream",
     "text": [
      "123.45\n"
     ]
    }
   ],
   "source": [
    "//Call getValue, which is implemented by the previously assigned lambda expression\n",
    "System.out.println(myNum.getValue());"
   ]
  },
  {
   "cell_type": "code",
   "execution_count": 6,
   "id": "f4355676",
   "metadata": {},
   "outputs": [
    {
     "name": "stdout",
     "output_type": "stream",
     "text": [
      "Fixed Value : 123.45\n",
      "Random Value : 65.77423954099699\n",
      "Another Random Value : 60.215948962762866\n"
     ]
    }
   ],
   "source": [
    "interface MyNumber{\n",
    "    double getValue();\n",
    "}\n",
    "class LambdaDemo{\n",
    "    public static void main()\n",
    "    {\n",
    "        MyNumber myNum;//declaring an interface reference\n",
    "        \n",
    "        myNum = () -> 123.45;\n",
    "        System.out.println(\"Fixed Value : \"+myNum.getValue());\n",
    "        \n",
    "        myNum = () -> Math.random() * 100;\n",
    "        System.out.println(\"Random Value : \"+myNum.getValue());\n",
    "        System.out.println(\"Another Random Value : \"+myNum.getValue());\n",
    "        \n",
    "    }\n",
    "}LambdaDemo.main()"
   ]
  },
  {
   "cell_type": "code",
   "execution_count": 8,
   "id": "731b7f92",
   "metadata": {},
   "outputs": [
    {
     "name": "stdout",
     "output_type": "stream",
     "text": [
      "10 is even\n"
     ]
    }
   ],
   "source": [
    "interface NumericTest{\n",
    "    boolean test(int n);\n",
    "}\n",
    "class Odd_Even_Lambda{\n",
    "    public static void main()\n",
    "    {\n",
    "        NumericTest num = (n) -> (n % 2)==0;\n",
    "        \n",
    "        if(num.test(10))\n",
    "        {\n",
    "            System.out.println(\"10 is even\");\n",
    "        }\n",
    "        else\n",
    "        {\n",
    "            System.out.println(\"10 is odd\");\n",
    "        }\n",
    "    }\n",
    "}Odd_Even_Lambda.main()"
   ]
  },
  {
   "cell_type": "code",
   "execution_count": 9,
   "id": "8959dade",
   "metadata": {},
   "outputs": [
    {
     "name": "stdout",
     "output_type": "stream",
     "text": [
      "-10 is negative\n"
     ]
    }
   ],
   "source": [
    "class Neg_Pos{\n",
    "    public static void main()\n",
    "    {\n",
    "        NumericTest num1 = (n) -> n>=0;\n",
    "        \n",
    "        if(num1.test(-10))\n",
    "        {\n",
    "            System.out.println(\"-10 is positive or zero\");\n",
    "        }\n",
    "        else\n",
    "        {\n",
    "            System.out.println(\"-10 is negative\");\n",
    "        }\n",
    "    }\n",
    "}Neg_Pos.main()"
   ]
  },
  {
   "cell_type": "code",
   "execution_count": 11,
   "id": "032c4ae7",
   "metadata": {},
   "outputs": [
    {
     "name": "stdout",
     "output_type": "stream",
     "text": [
      "2 is a factor of 10\n",
      "3 is not a factor of 10\n"
     ]
    }
   ],
   "source": [
    "interface NumericTest2{\n",
    "    boolean test(int n,int d);\n",
    "}\n",
    "class Demo{\n",
    "    public static void main()\n",
    "    {\n",
    "        NumericTest2 isFactor = (n,d)->(n%d)==0;\n",
    "        \n",
    "        if(isFactor.test(10,2))\n",
    "        {\n",
    "            System.out.println(\"2 is a factor of 10\");\n",
    "        }\n",
    "        if(!isFactor.test(10,3))\n",
    "        {\n",
    "            System.out.println(\"3 is not a factor of 10\");\n",
    "        }\n",
    "    }\n",
    "}Demo.main()"
   ]
  },
  {
   "cell_type": "code",
   "execution_count": 12,
   "id": "4d6ff46b",
   "metadata": {},
   "outputs": [
    {
     "name": "stdout",
     "output_type": "stream",
     "text": [
      "The factorial of 3 is : 6\n",
      "The factorial of 5 is : 120\n"
     ]
    }
   ],
   "source": [
    "interface NumericFunc{\n",
    "    int func(int n);\n",
    "}\n",
    "class BlockLamdaDemo{\n",
    "    public static void main()\n",
    "    {\n",
    "        NumericFunc factorial = (n) -> {\n",
    "            int result = 1;\n",
    "            for(int i=2;i<=n;i++)\n",
    "            {\n",
    "                result = result * i;\n",
    "            }\n",
    "            return result;\n",
    "        };\n",
    "        \n",
    "        System.out.println(\"The factorial of 3 is : \"+factorial.func(3));\n",
    "        System.out.println(\"The factorial of 5 is : \"+factorial.func(5));\n",
    "        \n",
    "    }\n",
    "}BlockLamdaDemo.main()"
   ]
  },
  {
   "cell_type": "code",
   "execution_count": 16,
   "id": "4af1136f",
   "metadata": {},
   "outputs": [
    {
     "name": "stdout",
     "output_type": "stream",
     "text": [
      "Lamda reversed is : adbmaL\n",
      "Expression reversed is : noisserpxE\n"
     ]
    }
   ],
   "source": [
    "interface StringFunc{\n",
    "    String func(String n);\n",
    "}\n",
    "class BlockLambdaDemo2{\n",
    "    public static void main()\n",
    "    {\n",
    "        StringFunc reverse = (str) -> {\n",
    "            String result = \"\";\n",
    "            int i;\n",
    "            \n",
    "            for(i=str.length()-1;i>=0;i--)\n",
    "            {\n",
    "                result += str.charAt(i);\n",
    "            }\n",
    "            return result;\n",
    "        };\n",
    "        System.out.println(\"Lamda reversed is : \"+reverse.func(\"Lambda\"));\n",
    "        System.out.println(\"Expression reversed is : \"+reverse.func(\"Expression\"));\n",
    "        \n",
    "    }\n",
    "}BlockLambdaDemo2.main()"
   ]
  },
  {
   "cell_type": "code",
   "execution_count": 17,
   "id": "08d33dab",
   "metadata": {},
   "outputs": [
    {
     "name": "stdout",
     "output_type": "stream",
     "text": [
      "Here is input string : Lambdas add power to Java\n",
      "The string in upper case : LAMBDAS ADD POWER TO JAVA\n",
      "The string without spaces : LambdasaddpowertoJava\n",
      "The string reversed : avaJ ot rewop dda sadbmaL\n"
     ]
    }
   ],
   "source": [
    "interface StringFunc{\n",
    "    String func(String n);\n",
    "}\n",
    "class LambdaArguments{\n",
    "    static String stringop(StringFunc sf, String s)\n",
    "    {\n",
    "        return sf.func(s);\n",
    "    }\n",
    "    public static void main()\n",
    "    {\n",
    "        String instr = \"Lambdas add power to Java\";\n",
    "        String outstr;\n",
    "        \n",
    "        System.out.println(\"Here is input string : \"+instr);\n",
    "        outstr = stringop((str)->str.toUpperCase(),instr);\n",
    "        System.out.println(\"The string in upper case : \"+outstr);\n",
    "        \n",
    "        outstr = stringop((str)->{\n",
    "            String result = \"\";\n",
    "            int i;\n",
    "            for(i=0;i<str.length();i++)\n",
    "            {\n",
    "                if(str.charAt(i)!=' ')\n",
    "                {\n",
    "                    result += str.charAt(i);\n",
    "                }\n",
    "            }\n",
    "            return result;\n",
    "        },instr);\n",
    "        System.out.println(\"The string without spaces : \"+outstr);\n",
    "        \n",
    "        StringFunc reverse = (str) -> {\n",
    "            String result = \"\";\n",
    "            int i;\n",
    "            for(i=str.length()-1;i>=0;i--)\n",
    "            {\n",
    "                result+=str.charAt(i);\n",
    "            }\n",
    "            return result;\n",
    "        };\n",
    "        System.out.println(\"The string reversed : \"+stringop(reverse,instr));        \n",
    "    }\n",
    "}LambdaArguments.main()"
   ]
  },
  {
   "cell_type": "code",
   "execution_count": 20,
   "id": "d8b2b121",
   "metadata": {},
   "outputs": [
    {
     "name": "stdout",
     "output_type": "stream",
     "text": [
      "Human Walking!!!\n",
      "Robot Walking!!!\n",
      "Custom object walking...\n",
      "Custom object walking with lambda...\n",
      "Custom object walking...Then tripped:(\n",
      "Walkable object using type of interface\n",
      "22\n",
      "2\n"
     ]
    }
   ],
   "source": [
    "@FunctionalInterface\n",
    "public interface Walkable{\n",
    "    public void walk();\n",
    "}\n",
    "@FunctionalInterface\n",
    "public interface TwoArguments{\n",
    "    public int action(int arg1,int arg2);\n",
    "}\n",
    "public class Robot implements Walkable{\n",
    "    public void walk()\n",
    "    {\n",
    "        System.out.println(\"Robot Walking!!!\");\n",
    "    }\n",
    "}\n",
    "public class Human implements Walkable{\n",
    "    public void walk()\n",
    "    {\n",
    "        System.out.println(\"Human Walking!!!\");\n",
    "    }\n",
    "}\n",
    "public class App{\n",
    "    public static void main()\n",
    "    {\n",
    "        Human tom = new Human();\n",
    "        //tom.walk();\n",
    "        walker(tom);\n",
    "        \n",
    "        Robot wale = new Robot();\n",
    "        //wale.walk();\n",
    "        walker(wale);\n",
    "        \n",
    "        //anonymous class - defining a custom class implmenting the Walkable interface and \n",
    "        //immediately and overriding the methods as well\n",
    "        walker(new Walkable(){\n",
    "            \n",
    "            @Override\n",
    "            public void walk()\n",
    "            {\n",
    "                System.out.println(\"Custom object walking...\");\n",
    "            }\n",
    "        });\n",
    "        \n",
    "        //defining the lambda expression where the method inside the interface is defined only\n",
    "        walker( () -> System.out.println(\"Custom object walking with lambda...\"));\n",
    "        \n",
    "        walker( () -> /*Implmentation of the walkable interface and its method*/{\n",
    "            System.out.print(\"Custom object walking...\");\n",
    "            System.out.println(\"Then tripped:(\");\n",
    "        });\n",
    "        \n",
    "        Walkable wa = () -> System.out.println(\"Walkable object using type of interface\");\n",
    "        walker(wa);\n",
    "        \n",
    "        TwoArguments sumarg = (arg1,arg2) -> arg1+arg2; \n",
    "        System.out.println(sumarg.action(10,12));\n",
    "        \n",
    "        TwoArguments nonzerodiv = (arg1, arg2) -> {\n",
    "            if(arg1==0)\n",
    "            {\n",
    "                return 0;\n",
    "            }\n",
    "            else if(arg2==0)\n",
    "            {\n",
    "                System.out.println(\"Divide by zero\");\n",
    "                return 0;\n",
    "            }\n",
    "            return arg1/arg2;\n",
    "        };\n",
    "        System.out.println(nonzerodiv.action(12,6));\n",
    "        \n",
    "    }\n",
    "    public static void walker(Walkable walkable_instance/*Human human*/)\n",
    "    {\n",
    "        walkable_instance.walk();\n",
    "    }\n",
    "}App.main()"
   ]
  },
  {
   "cell_type": "code",
   "execution_count": null,
   "id": "fb5b7519",
   "metadata": {},
   "outputs": [],
   "source": [
    "public class Car{\n",
    "    String make,model,color;\n",
    "    \n",
    "}"
   ]
  }
 ],
 "metadata": {
  "kernelspec": {
   "display_name": "Java",
   "language": "java",
   "name": "java"
  },
  "language_info": {
   "codemirror_mode": "java",
   "file_extension": ".jshell",
   "mimetype": "text/x-java-source",
   "name": "Java",
   "pygments_lexer": "java",
   "version": "11.0.17+8-post-Ubuntu-1ubuntu222.04"
  }
 },
 "nbformat": 4,
 "nbformat_minor": 5
}
